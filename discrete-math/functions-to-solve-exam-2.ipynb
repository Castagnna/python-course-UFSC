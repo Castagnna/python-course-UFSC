{
 "cells": [
  {
   "cell_type": "markdown",
   "metadata": {},
   "source": [
    "# This notebook pretends to help solve problems related with discrete math"
   ]
  },
  {
   "cell_type": "markdown",
   "metadata": {},
   "source": [
    "## 1 - Functions\n",
    "\n",
    "---"
   ]
  },
  {
   "cell_type": "code",
   "execution_count": 1,
   "metadata": {},
   "outputs": [],
   "source": [
    "def print_matrix(matrix):\n",
    "    for row in matrix:\n",
    "        print(row)"
   ]
  },
  {
   "cell_type": "code",
   "execution_count": 2,
   "metadata": {},
   "outputs": [],
   "source": [
    "def mdc(a, b, show=True):\n",
    "    result = f'mcd({a},{b}) = '\n",
    "    while b:\n",
    "        a, b = b, a % b\n",
    "        result += f'mcd({a},{b}) = '\n",
    "    if show:\n",
    "        print(result + str(a))\n",
    "    return a"
   ]
  },
  {
   "cell_type": "code",
   "execution_count": 3,
   "metadata": {},
   "outputs": [],
   "source": [
    "def create_identity_matrix(n):\n",
    "    identity = []\n",
    "    for i in range(n):\n",
    "        row = []\n",
    "        for j in range(n):\n",
    "            if i==j:\n",
    "                row.append(1)\n",
    "            else:\n",
    "                row.append(0)\n",
    "        identity.append(row)\n",
    "        \n",
    "    return identity"
   ]
  },
  {
   "cell_type": "code",
   "execution_count": 4,
   "metadata": {},
   "outputs": [],
   "source": [
    "def extend_matrix(square_matrix):\n",
    "    n = len(square_matrix)\n",
    "    identity = create_identity_matrix(n)\n",
    "    \n",
    "    extended_matrix = [r_sqr + r_id for r_sqr, r_id in zip(square_matrix, identity)]\n",
    "    \n",
    "    return extended_matrix"
   ]
  },
  {
   "cell_type": "code",
   "execution_count": 5,
   "metadata": {},
   "outputs": [],
   "source": [
    "def x_module_y(x, y):\n",
    "    return x%y"
   ]
  },
  {
   "cell_type": "code",
   "execution_count": 25,
   "metadata": {},
   "outputs": [],
   "source": [
    "def bezout_equation(mod, divisor):\n",
    "    quotient, remainder = divmod(mod, divisor)\n",
    "    return [remainder, mod, quotient, divisor]"
   ]
  },
  {
   "cell_type": "code",
   "execution_count": 7,
   "metadata": {},
   "outputs": [],
   "source": [
    "def print_bezout_eq(eq):\n",
    "    print(f'{eq[0]} = {eq[1]} - {eq[2]} * {eq[3]}')"
   ]
  },
  {
   "cell_type": "code",
   "execution_count": 8,
   "metadata": {},
   "outputs": [],
   "source": [
    "def bezout_equations(mod, divisor):\n",
    "    equations = []\n",
    "    remainder = -1\n",
    "    while remainder != 1:\n",
    "        equation = bezout_identity(mod, divisor)\n",
    "        equations.append(equation)\n",
    "        print_bezout_eq(equation)\n",
    "        remainder, mod, quotient, divisor = equation\n",
    "        \n",
    "        mod, divisor = divisor, remainder\n",
    "        \n",
    "    return equations"
   ]
  },
  {
   "cell_type": "code",
   "execution_count": 9,
   "metadata": {},
   "outputs": [],
   "source": [
    "def multiplicative_inverse(num, mod) :\n",
    "    if mdc(num, mod, False) != 1:\n",
    "        print('nao existem inverso, mdc != 1')\n",
    "        return 0\n",
    "    \n",
    "    num = num % mod; \n",
    "    for x in range(1, mod) : \n",
    "        if ((num * x) % mod == 1) : \n",
    "            return x \n",
    "    return 1"
   ]
  },
  {
   "cell_type": "markdown",
   "metadata": {},
   "source": [
    "## 2 - How to use all this junk\n",
    "\n",
    "* most test cases are from the teacher's list of exercises\n",
    "\n",
    "---"
   ]
  },
  {
   "cell_type": "markdown",
   "metadata": {},
   "source": [
    "### 2.1 - mdc"
   ]
  },
  {
   "cell_type": "code",
   "execution_count": 10,
   "metadata": {
    "scrolled": false
   },
   "outputs": [
    {
     "name": "stdout",
     "output_type": "stream",
     "text": [
      "mcd(55,101) = mcd(101,55) = mcd(55,46) = mcd(46,9) = mcd(9,1) = mcd(1,0) = 1\n"
     ]
    },
    {
     "data": {
      "text/plain": [
       "1"
      ]
     },
     "execution_count": 10,
     "metadata": {},
     "output_type": "execute_result"
    }
   ],
   "source": [
    "mdc(55, 101, True)"
   ]
  },
  {
   "cell_type": "code",
   "execution_count": 11,
   "metadata": {},
   "outputs": [
    {
     "name": "stdout",
     "output_type": "stream",
     "text": [
      "mcd(1211,421) = mcd(421,369) = mcd(369,52) = mcd(52,5) = mcd(5,2) = mcd(2,1) = mcd(1,0) = 1\n"
     ]
    },
    {
     "data": {
      "text/plain": [
       "1"
      ]
     },
     "execution_count": 11,
     "metadata": {},
     "output_type": "execute_result"
    }
   ],
   "source": [
    "mdc(1211, 421, True)"
   ]
  },
  {
   "cell_type": "code",
   "execution_count": 12,
   "metadata": {},
   "outputs": [
    {
     "name": "stdout",
     "output_type": "stream",
     "text": [
      "mcd(39,41) = mcd(41,39) = mcd(39,2) = mcd(2,1) = mcd(1,0) = 1\n"
     ]
    },
    {
     "data": {
      "text/plain": [
       "1"
      ]
     },
     "execution_count": 12,
     "metadata": {},
     "output_type": "execute_result"
    }
   ],
   "source": [
    "mdc(39, 41, True)"
   ]
  },
  {
   "cell_type": "code",
   "execution_count": 13,
   "metadata": {},
   "outputs": [
    {
     "name": "stdout",
     "output_type": "stream",
     "text": [
      "mcd(-48,36) = mcd(36,24) = mcd(24,12) = mcd(12,0) = 12\n"
     ]
    },
    {
     "data": {
      "text/plain": [
       "12"
      ]
     },
     "execution_count": 13,
     "metadata": {},
     "output_type": "execute_result"
    }
   ],
   "source": [
    "mdc(-48, 36, True)"
   ]
  },
  {
   "cell_type": "code",
   "execution_count": 14,
   "metadata": {},
   "outputs": [
    {
     "name": "stdout",
     "output_type": "stream",
     "text": [
      "mcd(61698,-5187) = mcd(-5187,-546) = mcd(-546,-273) = mcd(-273,0) = -273\n"
     ]
    },
    {
     "data": {
      "text/plain": [
       "-273"
      ]
     },
     "execution_count": 14,
     "metadata": {},
     "output_type": "execute_result"
    }
   ],
   "source": [
    "mdc(61698, -5187, True)"
   ]
  },
  {
   "cell_type": "code",
   "execution_count": 15,
   "metadata": {},
   "outputs": [
    {
     "name": "stdout",
     "output_type": "stream",
     "text": [
      "mcd(-5187,61698) = mcd(61698,56511) = mcd(56511,5187) = mcd(5187,4641) = mcd(4641,546) = mcd(546,273) = mcd(273,0) = 273\n"
     ]
    },
    {
     "data": {
      "text/plain": [
       "273"
      ]
     },
     "execution_count": 15,
     "metadata": {},
     "output_type": "execute_result"
    }
   ],
   "source": [
    "mdc(-5187, 61698,  True)"
   ]
  },
  {
   "cell_type": "code",
   "execution_count": 16,
   "metadata": {},
   "outputs": [
    {
     "name": "stdout",
     "output_type": "stream",
     "text": [
      "mcd(223468,466948) = mcd(466948,223468) = mcd(223468,20012) = mcd(20012,3336) = mcd(3336,3332) = mcd(3332,4) = mcd(4,0) = 4\n"
     ]
    },
    {
     "data": {
      "text/plain": [
       "4"
      ]
     },
     "execution_count": 16,
     "metadata": {},
     "output_type": "execute_result"
    }
   ],
   "source": [
    "mdc(223468, 466948,  True)"
   ]
  },
  {
   "cell_type": "code",
   "execution_count": 17,
   "metadata": {},
   "outputs": [
    {
     "name": "stdout",
     "output_type": "stream",
     "text": [
      "mcd(9565381388455777,431437) = mcd(431437,270113) = mcd(270113,161324) = mcd(161324,108789) = mcd(108789,52535) = mcd(52535,3719) = mcd(3719,469) = mcd(469,436) = mcd(436,33) = mcd(33,7) = mcd(7,5) = mcd(5,2) = mcd(2,1) = mcd(1,0) = 1\n"
     ]
    },
    {
     "data": {
      "text/plain": [
       "1"
      ]
     },
     "execution_count": 17,
     "metadata": {},
     "output_type": "execute_result"
    }
   ],
   "source": [
    "mdc(9565381388455777, 431437)"
   ]
  },
  {
   "cell_type": "markdown",
   "metadata": {},
   "source": [
    "### 2.2 - simple module"
   ]
  },
  {
   "cell_type": "code",
   "execution_count": 39,
   "metadata": {},
   "outputs": [
    {
     "data": {
      "text/plain": [
       "19"
      ]
     },
     "execution_count": 39,
     "metadata": {},
     "output_type": "execute_result"
    }
   ],
   "source": [
    "x_module_y(-43, 31)"
   ]
  },
  {
   "cell_type": "markdown",
   "metadata": {},
   "source": [
    "### 2.3 - bezout_equation"
   ]
  },
  {
   "cell_type": "code",
   "execution_count": 26,
   "metadata": {},
   "outputs": [
    {
     "name": "stdout",
     "output_type": "stream",
     "text": [
      "46 = 101 - 1 * 55\n"
     ]
    }
   ],
   "source": [
    "eq = bezout_equation(101, 55)\n",
    "print_bezout_eq(eq)"
   ]
  },
  {
   "cell_type": "markdown",
   "metadata": {},
   "source": [
    "### 2.4 - Multiplicative inverses"
   ]
  },
  {
   "cell_type": "markdown",
   "metadata": {},
   "source": [
    "#### a)"
   ]
  },
  {
   "cell_type": "code",
   "execution_count": 30,
   "metadata": {},
   "outputs": [
    {
     "name": "stdout",
     "output_type": "stream",
     "text": [
      "2 = 37 - 7 * 5\n",
      "1 = 5 - 2 * 2\n"
     ]
    }
   ],
   "source": [
    "equations = bezout_equations(mod=37, divisor=5)"
   ]
  },
  {
   "cell_type": "code",
   "execution_count": 32,
   "metadata": {},
   "outputs": [
    {
     "data": {
      "text/plain": [
       "15"
      ]
     },
     "execution_count": 32,
     "metadata": {},
     "output_type": "execute_result"
    }
   ],
   "source": [
    "multiplicative_inverse(mod=37, num=5)"
   ]
  },
  {
   "cell_type": "markdown",
   "metadata": {},
   "source": [
    "#### b)"
   ]
  },
  {
   "cell_type": "code",
   "execution_count": 33,
   "metadata": {},
   "outputs": [
    {
     "name": "stdout",
     "output_type": "stream",
     "text": [
      "nao existem inverso, mdc != 1\n"
     ]
    },
    {
     "data": {
      "text/plain": [
       "0"
      ]
     },
     "execution_count": 33,
     "metadata": {},
     "output_type": "execute_result"
    }
   ],
   "source": [
    "multiplicative_inverse(mod=77, num=7)"
   ]
  },
  {
   "cell_type": "markdown",
   "metadata": {},
   "source": [
    "#### c)"
   ]
  },
  {
   "cell_type": "code",
   "execution_count": 36,
   "metadata": {},
   "outputs": [
    {
     "name": "stdout",
     "output_type": "stream",
     "text": [
      "25 = 1117 - 12 * 91\n",
      "16 = 91 - 3 * 25\n",
      "9 = 25 - 1 * 16\n",
      "7 = 16 - 1 * 9\n",
      "2 = 9 - 1 * 7\n",
      "1 = 7 - 3 * 2\n"
     ]
    }
   ],
   "source": [
    "equations = bezout_equations(mod=1117, divisor=91)"
   ]
  },
  {
   "cell_type": "code",
   "execution_count": 34,
   "metadata": {},
   "outputs": [
    {
     "data": {
      "text/plain": [
       "491"
      ]
     },
     "execution_count": 34,
     "metadata": {},
     "output_type": "execute_result"
    }
   ],
   "source": [
    "multiplicative_inverse(mod=1117, num=91)"
   ]
  },
  {
   "cell_type": "markdown",
   "metadata": {},
   "source": [
    "#### d)"
   ]
  },
  {
   "cell_type": "code",
   "execution_count": 37,
   "metadata": {},
   "outputs": [
    {
     "name": "stdout",
     "output_type": "stream",
     "text": [
      "199373 = 199373 - 0 * 200455571\n",
      "85706 = 200455571 - 1005 * 199373\n",
      "27961 = 199373 - 2 * 85706\n",
      "1823 = 85706 - 3 * 27961\n",
      "616 = 27961 - 15 * 1823\n",
      "591 = 1823 - 2 * 616\n",
      "25 = 616 - 1 * 591\n",
      "16 = 591 - 23 * 25\n",
      "9 = 25 - 1 * 16\n",
      "7 = 16 - 1 * 9\n",
      "2 = 9 - 1 * 7\n",
      "1 = 7 - 3 * 2\n"
     ]
    }
   ],
   "source": [
    "equations = bezout_equations(mod=199373, divisor=200455571)"
   ]
  },
  {
   "cell_type": "code",
   "execution_count": 38,
   "metadata": {},
   "outputs": [
    {
     "data": {
      "text/plain": [
       "87711"
      ]
     },
     "execution_count": 38,
     "metadata": {},
     "output_type": "execute_result"
    }
   ],
   "source": [
    "multiplicative_inverse(mod=199373, num=200455571)"
   ]
  },
  {
   "cell_type": "markdown",
   "metadata": {},
   "source": [
    "## 3 - Not finished work"
   ]
  },
  {
   "cell_type": "code",
   "execution_count": 8,
   "metadata": {},
   "outputs": [
    {
     "name": "stdout",
     "output_type": "stream",
     "text": [
      "[1, 0, 0, 0]\n",
      "[0, 1, 0, 0]\n",
      "[0, 0, 1, 0]\n",
      "[0, 0, 0, 1]\n"
     ]
    }
   ],
   "source": [
    "identity = create_identity_matrix(4)\n",
    "for row in identity:\n",
    "    print(row)"
   ]
  },
  {
   "cell_type": "code",
   "execution_count": 17,
   "metadata": {},
   "outputs": [],
   "source": [
    "my_matrix = [\n",
    "    [7, 2],\n",
    "    [3, 11],\n",
    "]"
   ]
  },
  {
   "cell_type": "code",
   "execution_count": 18,
   "metadata": {},
   "outputs": [],
   "source": [
    "extended_matrix = extend_matrix(my_matrix)"
   ]
  },
  {
   "cell_type": "code",
   "execution_count": 19,
   "metadata": {},
   "outputs": [
    {
     "name": "stdout",
     "output_type": "stream",
     "text": [
      "[7, 2, 1, 0]\n",
      "[3, 11, 0, 1]\n"
     ]
    }
   ],
   "source": [
    "print_matrix(extended_matrix)"
   ]
  },
  {
   "cell_type": "code",
   "execution_count": 43,
   "metadata": {},
   "outputs": [
    {
     "name": "stdout",
     "output_type": "stream",
     "text": [
      "46 = 101 - 1 * 55\n"
     ]
    }
   ],
   "source": [
    "print_bezout_eq(eq)"
   ]
  },
  {
   "cell_type": "code",
   "execution_count": 70,
   "metadata": {},
   "outputs": [
    {
     "name": "stdout",
     "output_type": "stream",
     "text": [
      "46 = 101 - 1 * 55\n",
      "9 = 55 - 1 * 46\n",
      "1 = 46 - 5 * 9\n"
     ]
    }
   ],
   "source": [
    "equations = bezout_equations(101, 55)"
   ]
  },
  {
   "cell_type": "code",
   "execution_count": 71,
   "metadata": {},
   "outputs": [
    {
     "data": {
      "text/plain": [
       "[[46, 101, 1, 55], [9, 55, 1, 46], [1, 46, 5, 9]]"
      ]
     },
     "execution_count": 71,
     "metadata": {},
     "output_type": "execute_result"
    }
   ],
   "source": [
    "equations"
   ]
  },
  {
   "cell_type": "code",
   "execution_count": 75,
   "metadata": {},
   "outputs": [
    {
     "data": {
      "text/plain": [
       "[1, 46, 5, [55, 1, 46]]"
      ]
     },
     "execution_count": 75,
     "metadata": {},
     "output_type": "execute_result"
    }
   ],
   "source": [
    "eqs = equations[:]\n",
    "eq1 = eqs[-1]\n",
    "eq2 = eqs[-2]\n",
    "eq3 = eqs[:][-3]\n",
    "eq1[-1] = eq2[1:]\n",
    "eq1"
   ]
  },
  {
   "cell_type": "code",
   "execution_count": 60,
   "metadata": {},
   "outputs": [
    {
     "data": {
      "text/plain": [
       "[10, 2, 3]"
      ]
     },
     "execution_count": 60,
     "metadata": {},
     "output_type": "execute_result"
    }
   ],
   "source": [
    "lis = [1, 2, 3]\n",
    "lis[0] = 10\n",
    "lis"
   ]
  },
  {
   "cell_type": "code",
   "execution_count": 106,
   "metadata": {},
   "outputs": [
    {
     "name": "stdout",
     "output_type": "stream",
     "text": [
      "mcd(55,101) = mcd(101,55) = mcd(55,46) = mcd(46,9) = mcd(9,1) = mcd(1,0) = 1\n"
     ]
    },
    {
     "data": {
      "text/plain": [
       "True"
      ]
     },
     "execution_count": 106,
     "metadata": {},
     "output_type": "execute_result"
    }
   ],
   "source": [
    "mdc(55, 101) == 1"
   ]
  },
  {
   "cell_type": "code",
   "execution_count": 107,
   "metadata": {},
   "outputs": [
    {
     "data": {
      "text/plain": [
       "90"
      ]
     },
     "execution_count": 107,
     "metadata": {},
     "output_type": "execute_result"
    }
   ],
   "source": [
    "multiplicative_inverse(55, 101)"
   ]
  },
  {
   "cell_type": "code",
   "execution_count": 108,
   "metadata": {},
   "outputs": [
    {
     "name": "stdout",
     "output_type": "stream",
     "text": [
      "[55, 32, 58]\n",
      "[56, 68, 17]\n",
      "[68, 5, 90]\n"
     ]
    }
   ],
   "source": [
    "my_mat = [\n",
    "    [55, 32, 58],\n",
    "    [56, 68, 17],\n",
    "    [68, 5, 90],\n",
    "]\n",
    "\n",
    "print_matrix(my_mat)"
   ]
  },
  {
   "cell_type": "code",
   "execution_count": 110,
   "metadata": {},
   "outputs": [
    {
     "name": "stdout",
     "output_type": "stream",
     "text": [
      "[55, 32, 58, 1, 0, 0]\n",
      "[56, 68, 17, 0, 1, 0]\n",
      "[68, 5, 90, 0, 0, 1]\n"
     ]
    }
   ],
   "source": [
    "ext_mat = extend_matrix(my_mat)\n",
    "print_matrix(ext_mat)"
   ]
  },
  {
   "cell_type": "code",
   "execution_count": null,
   "metadata": {},
   "outputs": [],
   "source": []
  }
 ],
 "metadata": {
  "kernelspec": {
   "display_name": "Python 3",
   "language": "python",
   "name": "python3"
  },
  "language_info": {
   "codemirror_mode": {
    "name": "ipython",
    "version": 3
   },
   "file_extension": ".py",
   "mimetype": "text/x-python",
   "name": "python",
   "nbconvert_exporter": "python",
   "pygments_lexer": "ipython3",
   "version": "3.7.4"
  }
 },
 "nbformat": 4,
 "nbformat_minor": 4
}
