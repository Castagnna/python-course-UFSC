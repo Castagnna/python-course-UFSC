{
 "cells": [
  {
   "cell_type": "markdown",
   "metadata": {},
   "source": [
    "# This notebook pretends to help solve problems related with discrete math"
   ]
  },
  {
   "cell_type": "markdown",
   "metadata": {},
   "source": [
    "## 1 - Functions\n",
    "\n",
    "---"
   ]
  },
  {
   "cell_type": "code",
   "execution_count": 1,
   "metadata": {},
   "outputs": [],
   "source": [
    "def print_matrix(matrix):\n",
    "    for row in matrix:\n",
    "        print(row)"
   ]
  },
  {
   "cell_type": "code",
   "execution_count": 2,
   "metadata": {},
   "outputs": [],
   "source": [
    "def mdc(a, b, show=True):\n",
    "    result = f'mcd({a},{b}) = '\n",
    "    while b:\n",
    "        a, b = b, a % b\n",
    "        result += f'mcd({a},{b}) = '\n",
    "    if show:\n",
    "        print(result + str(a))\n",
    "    return a"
   ]
  },
  {
   "cell_type": "code",
   "execution_count": 3,
   "metadata": {},
   "outputs": [],
   "source": [
    "def create_identity_matrix(n):\n",
    "    identity = []\n",
    "    for i in range(n):\n",
    "        row = []\n",
    "        for j in range(n):\n",
    "            if i==j:\n",
    "                row.append(1)\n",
    "            else:\n",
    "                row.append(0)\n",
    "        identity.append(row)\n",
    "        \n",
    "    return identity"
   ]
  },
  {
   "cell_type": "code",
   "execution_count": 4,
   "metadata": {},
   "outputs": [],
   "source": [
    "def extend_matrix(square_matrix):\n",
    "    n = len(square_matrix)\n",
    "    identity = create_identity_matrix(n)\n",
    "    \n",
    "    extended_matrix = [r_sqr + r_id for r_sqr, r_id in zip(square_matrix, identity)]\n",
    "    \n",
    "    return extended_matrix"
   ]
  },
  {
   "cell_type": "code",
   "execution_count": 5,
   "metadata": {},
   "outputs": [],
   "source": [
    "def x_module_y(x, y):\n",
    "    return x%y"
   ]
  },
  {
   "cell_type": "code",
   "execution_count": 6,
   "metadata": {},
   "outputs": [],
   "source": [
    "def bezout_equation(mod, divisor):\n",
    "    quotient, remainder = divmod(mod, divisor)\n",
    "    return [remainder, mod, quotient, divisor]"
   ]
  },
  {
   "cell_type": "code",
   "execution_count": 7,
   "metadata": {},
   "outputs": [],
   "source": [
    "def print_bezout_eq(eq):\n",
    "    print(f'{eq[0]} = {eq[1]} - {eq[2]} * {eq[3]}')"
   ]
  },
  {
   "cell_type": "code",
   "execution_count": 8,
   "metadata": {},
   "outputs": [],
   "source": [
    "def bezout_equations(mod, divisor):\n",
    "    equations = []\n",
    "    remainder = -1\n",
    "    while remainder != 1:\n",
    "        equation = bezout_equation(mod, divisor)\n",
    "        equations.append(equation)\n",
    "        print_bezout_eq(equation)\n",
    "        remainder, mod, quotient, divisor = equation\n",
    "        \n",
    "        mod, divisor = divisor, remainder\n",
    "        \n",
    "    return equations"
   ]
  },
  {
   "cell_type": "code",
   "execution_count": 9,
   "metadata": {},
   "outputs": [],
   "source": [
    "def multiplicative_inverse(num, mod) :\n",
    "    if mdc(num, mod, False) != 1:\n",
    "        print('nao existem inverso, mdc != 1')\n",
    "        return 0\n",
    "    \n",
    "    num = num % mod; \n",
    "    for x in range(1, mod) : \n",
    "        if ((num * x) % mod == 1) : \n",
    "            return x \n",
    "    return 1"
   ]
  },
  {
   "cell_type": "code",
   "execution_count": 10,
   "metadata": {},
   "outputs": [],
   "source": [
    "def print_pot_mod(n, mod, loops):\n",
    "    for i in range(1,loops+1):\n",
    "        if i == 1:\n",
    "            result = n%mod\n",
    "            print(f'{n}^{i} mod{mod} = {result}')\n",
    "        else:\n",
    "            new_result = (result*result)%mod\n",
    "\n",
    "            print(f'{n}^{i} mod{mod} = {result} x {result} mod{mod} = {new_result}')\n",
    "            result = new_result"
   ]
  },
  {
   "cell_type": "code",
   "execution_count": 11,
   "metadata": {},
   "outputs": [],
   "source": [
    "def algoritmo_euclides(maior, menor):\n",
    "    matriz = [\n",
    "        [maior, '-'],\n",
    "    ]\n",
    "    i = 1\n",
    "    while True:\n",
    "        matriz.append([menor])\n",
    "        q, d = divmod(maior, menor)\n",
    "        matriz[i].append(q)\n",
    "        maior = menor\n",
    "        menor = d\n",
    "        i += 1\n",
    "        if d == 0:\n",
    "            break\n",
    "    \n",
    "    matriz[0] += [1, 0]\n",
    "    matriz[1] += [0, 1]\n",
    "    for i in range(2, len(matriz)):\n",
    "        proximo_s = matriz[i-2][2] - matriz[i-1][1] * matriz[i-1][2]\n",
    "        proximo_t = matriz[i-2][3] - matriz[i-1][1] * matriz[i-1][3]\n",
    "        matriz[i] += [proximo_s, proximo_t]\n",
    "    \n",
    "    print(' d , q , s , t ')\n",
    "    for linha in matriz:\n",
    "        print(linha)\n",
    "    \n",
    "    a = matriz[0][0]\n",
    "    b = matriz[1][0]\n",
    "    mdc = matriz[-1][0]\n",
    "    s = matriz[-1][2]\n",
    "    t = matriz[-1][3]\n",
    "    print()\n",
    "    print(f'MDC({a},{b}) = {mdc} = {s}x{a} + {t}x{b}')\n",
    "  \n",
    "    return matriz"
   ]
  },
  {
   "cell_type": "code",
   "execution_count": 12,
   "metadata": {},
   "outputs": [
    {
     "name": "stdout",
     "output_type": "stream",
     "text": [
      "2\n",
      "3\n",
      "5\n",
      "7\n",
      "11\n",
      "13\n"
     ]
    }
   ],
   "source": [
    "# primes generator\n",
    "\n",
    "def nats(n=2):\n",
    "    if n < 2:\n",
    "        n=2\n",
    "    yield n\n",
    "    yield from nats(n+1)\n",
    "    \n",
    "def sieve(s):\n",
    "    n = next(s)\n",
    "    yield n\n",
    "    yield from sieve(i for i in s if i%n != 0)\n",
    "\n",
    "prime = sieve(nats(-1))\n",
    "\n",
    "print(next(prime))\n",
    "\n",
    "for i in range(5):\n",
    "    print(next(prime))"
   ]
  },
  {
   "cell_type": "markdown",
   "metadata": {},
   "source": [
    "## 2 - How to use all this junk\n",
    "\n",
    "* most test cases are from the teacher's list of exercises\n",
    "\n",
    "---"
   ]
  },
  {
   "cell_type": "markdown",
   "metadata": {},
   "source": [
    "### 2.1 - mdc"
   ]
  },
  {
   "cell_type": "code",
   "execution_count": 13,
   "metadata": {
    "scrolled": false
   },
   "outputs": [
    {
     "name": "stdout",
     "output_type": "stream",
     "text": [
      "mcd(55,101) = mcd(101,55) = mcd(55,46) = mcd(46,9) = mcd(9,1) = mcd(1,0) = 1\n"
     ]
    },
    {
     "data": {
      "text/plain": [
       "1"
      ]
     },
     "execution_count": 13,
     "metadata": {},
     "output_type": "execute_result"
    }
   ],
   "source": [
    "mdc(55, 101, True)"
   ]
  },
  {
   "cell_type": "code",
   "execution_count": 14,
   "metadata": {},
   "outputs": [
    {
     "name": "stdout",
     "output_type": "stream",
     "text": [
      "mcd(1211,421) = mcd(421,369) = mcd(369,52) = mcd(52,5) = mcd(5,2) = mcd(2,1) = mcd(1,0) = 1\n"
     ]
    },
    {
     "data": {
      "text/plain": [
       "1"
      ]
     },
     "execution_count": 14,
     "metadata": {},
     "output_type": "execute_result"
    }
   ],
   "source": [
    "mdc(1211, 421, True)"
   ]
  },
  {
   "cell_type": "code",
   "execution_count": 15,
   "metadata": {},
   "outputs": [
    {
     "name": "stdout",
     "output_type": "stream",
     "text": [
      "mcd(39,41) = mcd(41,39) = mcd(39,2) = mcd(2,1) = mcd(1,0) = 1\n"
     ]
    },
    {
     "data": {
      "text/plain": [
       "1"
      ]
     },
     "execution_count": 15,
     "metadata": {},
     "output_type": "execute_result"
    }
   ],
   "source": [
    "mdc(39, 41, True)"
   ]
  },
  {
   "cell_type": "code",
   "execution_count": 16,
   "metadata": {},
   "outputs": [
    {
     "name": "stdout",
     "output_type": "stream",
     "text": [
      "mcd(-48,36) = mcd(36,24) = mcd(24,12) = mcd(12,0) = 12\n"
     ]
    },
    {
     "data": {
      "text/plain": [
       "12"
      ]
     },
     "execution_count": 16,
     "metadata": {},
     "output_type": "execute_result"
    }
   ],
   "source": [
    "mdc(-48, 36, True)"
   ]
  },
  {
   "cell_type": "code",
   "execution_count": 17,
   "metadata": {},
   "outputs": [
    {
     "name": "stdout",
     "output_type": "stream",
     "text": [
      "mcd(61698,-5187) = mcd(-5187,-546) = mcd(-546,-273) = mcd(-273,0) = -273\n"
     ]
    },
    {
     "data": {
      "text/plain": [
       "-273"
      ]
     },
     "execution_count": 17,
     "metadata": {},
     "output_type": "execute_result"
    }
   ],
   "source": [
    "mdc(61698, -5187, True)"
   ]
  },
  {
   "cell_type": "code",
   "execution_count": 18,
   "metadata": {},
   "outputs": [
    {
     "name": "stdout",
     "output_type": "stream",
     "text": [
      "mcd(-5187,61698) = mcd(61698,56511) = mcd(56511,5187) = mcd(5187,4641) = mcd(4641,546) = mcd(546,273) = mcd(273,0) = 273\n"
     ]
    },
    {
     "data": {
      "text/plain": [
       "273"
      ]
     },
     "execution_count": 18,
     "metadata": {},
     "output_type": "execute_result"
    }
   ],
   "source": [
    "mdc(-5187, 61698,  True)"
   ]
  },
  {
   "cell_type": "code",
   "execution_count": 19,
   "metadata": {},
   "outputs": [
    {
     "name": "stdout",
     "output_type": "stream",
     "text": [
      "mcd(223468,466948) = mcd(466948,223468) = mcd(223468,20012) = mcd(20012,3336) = mcd(3336,3332) = mcd(3332,4) = mcd(4,0) = 4\n"
     ]
    },
    {
     "data": {
      "text/plain": [
       "4"
      ]
     },
     "execution_count": 19,
     "metadata": {},
     "output_type": "execute_result"
    }
   ],
   "source": [
    "mdc(223468, 466948,  True)"
   ]
  },
  {
   "cell_type": "code",
   "execution_count": 20,
   "metadata": {},
   "outputs": [
    {
     "name": "stdout",
     "output_type": "stream",
     "text": [
      "mcd(9565381388455777,431437) = mcd(431437,270113) = mcd(270113,161324) = mcd(161324,108789) = mcd(108789,52535) = mcd(52535,3719) = mcd(3719,469) = mcd(469,436) = mcd(436,33) = mcd(33,7) = mcd(7,5) = mcd(5,2) = mcd(2,1) = mcd(1,0) = 1\n"
     ]
    },
    {
     "data": {
      "text/plain": [
       "1"
      ]
     },
     "execution_count": 20,
     "metadata": {},
     "output_type": "execute_result"
    }
   ],
   "source": [
    "mdc(9565381388455777, 431437)"
   ]
  },
  {
   "cell_type": "code",
   "execution_count": 21,
   "metadata": {},
   "outputs": [
    {
     "name": "stdout",
     "output_type": "stream",
     "text": [
      "mcd(4021,2014) = mcd(2014,2007) = mcd(2007,7) = mcd(7,5) = mcd(5,2) = mcd(2,1) = mcd(1,0) = 1\n"
     ]
    },
    {
     "data": {
      "text/plain": [
       "1"
      ]
     },
     "execution_count": 21,
     "metadata": {},
     "output_type": "execute_result"
    }
   ],
   "source": [
    "mdc(4021,2014)"
   ]
  },
  {
   "cell_type": "markdown",
   "metadata": {},
   "source": [
    "### 2.2 - simple module"
   ]
  },
  {
   "cell_type": "code",
   "execution_count": 22,
   "metadata": {},
   "outputs": [
    {
     "data": {
      "text/plain": [
       "19"
      ]
     },
     "execution_count": 22,
     "metadata": {},
     "output_type": "execute_result"
    }
   ],
   "source": [
    "x_module_y(-43, 31)"
   ]
  },
  {
   "cell_type": "code",
   "execution_count": 23,
   "metadata": {},
   "outputs": [
    {
     "data": {
      "text/plain": [
       "21"
      ]
     },
     "execution_count": 23,
     "metadata": {},
     "output_type": "execute_result"
    }
   ],
   "source": [
    "# 186+153mod132\n",
    "x_module_y(153, 132)"
   ]
  },
  {
   "cell_type": "code",
   "execution_count": 24,
   "metadata": {},
   "outputs": [
    {
     "data": {
      "text/plain": [
       "54"
      ]
     },
     "execution_count": 24,
     "metadata": {},
     "output_type": "execute_result"
    }
   ],
   "source": [
    "x_module_y(186, 132)"
   ]
  },
  {
   "cell_type": "code",
   "execution_count": 25,
   "metadata": {},
   "outputs": [
    {
     "data": {
      "text/plain": [
       "75"
      ]
     },
     "execution_count": 25,
     "metadata": {},
     "output_type": "execute_result"
    }
   ],
   "source": [
    "x_module_y(186+153, 132)"
   ]
  },
  {
   "cell_type": "code",
   "execution_count": 26,
   "metadata": {},
   "outputs": [
    {
     "data": {
      "text/plain": [
       "7"
      ]
     },
     "execution_count": 26,
     "metadata": {},
     "output_type": "execute_result"
    }
   ],
   "source": [
    "# 166−159mod162\n",
    "x_module_y(166-159, 162)"
   ]
  },
  {
   "cell_type": "code",
   "execution_count": 27,
   "metadata": {},
   "outputs": [
    {
     "data": {
      "text/plain": [
       "50"
      ]
     },
     "execution_count": 27,
     "metadata": {},
     "output_type": "execute_result"
    }
   ],
   "source": [
    "# 124×182mod138\n",
    "x_module_y(124*182, 162)"
   ]
  },
  {
   "cell_type": "code",
   "execution_count": 28,
   "metadata": {},
   "outputs": [
    {
     "data": {
      "text/plain": [
       "2480"
      ]
     },
     "execution_count": 28,
     "metadata": {},
     "output_type": "execute_result"
    }
   ],
   "source": [
    "x_module_y(124, 162) * x_module_y(182, 162)"
   ]
  },
  {
   "cell_type": "code",
   "execution_count": 29,
   "metadata": {},
   "outputs": [
    {
     "data": {
      "text/plain": [
       "50"
      ]
     },
     "execution_count": 29,
     "metadata": {},
     "output_type": "execute_result"
    }
   ],
   "source": [
    "x_module_y(2480, 162)"
   ]
  },
  {
   "cell_type": "code",
   "execution_count": 30,
   "metadata": {},
   "outputs": [
    {
     "data": {
      "text/plain": [
       "200"
      ]
     },
     "execution_count": 30,
     "metadata": {},
     "output_type": "execute_result"
    }
   ],
   "source": [
    "# 3^254 mod (257) = 200\n",
    "x_module_y(3**254, 257)\n"
   ]
  },
  {
   "cell_type": "code",
   "execution_count": 31,
   "metadata": {},
   "outputs": [
    {
     "data": {
      "text/plain": [
       "7"
      ]
     },
     "execution_count": 31,
     "metadata": {},
     "output_type": "execute_result"
    }
   ],
   "source": [
    "a = 15*18-10*17\n",
    "a%31"
   ]
  },
  {
   "cell_type": "code",
   "execution_count": 32,
   "metadata": {},
   "outputs": [
    {
     "data": {
      "text/plain": [
       "0"
      ]
     },
     "execution_count": 32,
     "metadata": {},
     "output_type": "execute_result"
    }
   ],
   "source": [
    "0%31"
   ]
  },
  {
   "cell_type": "code",
   "execution_count": 33,
   "metadata": {},
   "outputs": [
    {
     "data": {
      "text/plain": [
       "16"
      ]
     },
     "execution_count": 33,
     "metadata": {},
     "output_type": "execute_result"
    }
   ],
   "source": [
    "multiplicative_inverse(2, 31)"
   ]
  },
  {
   "cell_type": "code",
   "execution_count": 34,
   "metadata": {},
   "outputs": [
    {
     "data": {
      "text/plain": [
       "26"
      ]
     },
     "execution_count": 34,
     "metadata": {},
     "output_type": "execute_result"
    }
   ],
   "source": [
    "x_module_y(21*16, 31)"
   ]
  },
  {
   "cell_type": "code",
   "execution_count": 35,
   "metadata": {},
   "outputs": [
    {
     "data": {
      "text/plain": [
       "0"
      ]
     },
     "execution_count": 35,
     "metadata": {},
     "output_type": "execute_result"
    }
   ],
   "source": [
    "x_module_y(2*26-3*7, 31)"
   ]
  },
  {
   "cell_type": "code",
   "execution_count": 36,
   "metadata": {},
   "outputs": [
    {
     "data": {
      "text/plain": [
       "1596"
      ]
     },
     "execution_count": 36,
     "metadata": {},
     "output_type": "execute_result"
    }
   ],
   "source": [
    "(35+79)*14"
   ]
  },
  {
   "cell_type": "code",
   "execution_count": 37,
   "metadata": {},
   "outputs": [
    {
     "data": {
      "text/plain": [
       "10"
      ]
     },
     "execution_count": 37,
     "metadata": {},
     "output_type": "execute_result"
    }
   ],
   "source": [
    "x_module_y(1596, 13)"
   ]
  },
  {
   "cell_type": "code",
   "execution_count": 38,
   "metadata": {},
   "outputs": [
    {
     "data": {
      "text/plain": [
       "-216000"
      ]
     },
     "execution_count": 38,
     "metadata": {},
     "output_type": "execute_result"
    }
   ],
   "source": [
    "(3-9*7)**3"
   ]
  },
  {
   "cell_type": "code",
   "execution_count": 39,
   "metadata": {},
   "outputs": [
    {
     "data": {
      "text/plain": [
       "8"
      ]
     },
     "execution_count": 39,
     "metadata": {},
     "output_type": "execute_result"
    }
   ],
   "source": [
    "multiplicative_inverse(216000, 13)"
   ]
  },
  {
   "cell_type": "code",
   "execution_count": 40,
   "metadata": {},
   "outputs": [
    {
     "data": {
      "text/plain": [
       "5"
      ]
     },
     "execution_count": 40,
     "metadata": {},
     "output_type": "execute_result"
    }
   ],
   "source": [
    "x_module_y(-8, 13)"
   ]
  },
  {
   "cell_type": "code",
   "execution_count": 41,
   "metadata": {},
   "outputs": [
    {
     "data": {
      "text/plain": [
       "11"
      ]
     },
     "execution_count": 41,
     "metadata": {},
     "output_type": "execute_result"
    }
   ],
   "source": [
    "x_module_y(50, 13)"
   ]
  },
  {
   "cell_type": "code",
   "execution_count": 42,
   "metadata": {},
   "outputs": [
    {
     "data": {
      "text/plain": [
       "([1, 2, 4, 8, 16, 32, 64, 128, 256], 511)"
      ]
     },
     "execution_count": 42,
     "metadata": {},
     "output_type": "execute_result"
    }
   ],
   "source": [
    "n = 258\n",
    "pot_2 = 1\n",
    "parcelas = []\n",
    "while pot_2 < n:\n",
    "    parcelas.append(pot_2)\n",
    "    pot_2 *= 2\n",
    "parcelas, sum(parcelas)"
   ]
  },
  {
   "cell_type": "code",
   "execution_count": 43,
   "metadata": {},
   "outputs": [
    {
     "name": "stdout",
     "output_type": "stream",
     "text": [
      "3^1 mod257 = 3\n",
      "3^2 mod257 = 3 x 3 mod257 = 9\n",
      "3^3 mod257 = 9 x 9 mod257 = 81\n",
      "3^4 mod257 = 81 x 81 mod257 = 136\n",
      "3^5 mod257 = 136 x 136 mod257 = 249\n",
      "3^6 mod257 = 249 x 249 mod257 = 64\n",
      "3^7 mod257 = 64 x 64 mod257 = 241\n",
      "3^8 mod257 = 241 x 241 mod257 = 256\n"
     ]
    }
   ],
   "source": [
    "print_pot_mod(3, 257, 8)"
   ]
  },
  {
   "cell_type": "code",
   "execution_count": null,
   "metadata": {},
   "outputs": [],
   "source": []
  },
  {
   "cell_type": "code",
   "execution_count": 44,
   "metadata": {},
   "outputs": [
    {
     "name": "stdout",
     "output_type": "stream",
     "text": [
      "CPU times: user 849 µs, sys: 0 ns, total: 849 µs\n",
      "Wall time: 875 µs\n"
     ]
    },
    {
     "data": {
      "text/plain": [
       "121"
      ]
     },
     "execution_count": 44,
     "metadata": {},
     "output_type": "execute_result"
    }
   ],
   "source": [
    "%%time\n",
    "# 14^20539(mod181)\n",
    "x_module_y(14**20539, 181)"
   ]
  },
  {
   "cell_type": "code",
   "execution_count": 45,
   "metadata": {},
   "outputs": [
    {
     "data": {
      "text/plain": [
       "14"
      ]
     },
     "execution_count": 45,
     "metadata": {},
     "output_type": "execute_result"
    }
   ],
   "source": [
    "n = 14\n",
    "mod = 181\n",
    "(n**1)%mod"
   ]
  },
  {
   "cell_type": "code",
   "execution_count": 46,
   "metadata": {},
   "outputs": [
    {
     "data": {
      "text/plain": [
       "15"
      ]
     },
     "execution_count": 46,
     "metadata": {},
     "output_type": "execute_result"
    }
   ],
   "source": [
    "(14*14)%181"
   ]
  },
  {
   "cell_type": "code",
   "execution_count": 47,
   "metadata": {},
   "outputs": [
    {
     "data": {
      "text/plain": [
       "44"
      ]
     },
     "execution_count": 47,
     "metadata": {},
     "output_type": "execute_result"
    }
   ],
   "source": [
    "a=15\n",
    "(a*a)%181"
   ]
  },
  {
   "cell_type": "code",
   "execution_count": 48,
   "metadata": {},
   "outputs": [
    {
     "data": {
      "text/plain": [
       "126"
      ]
     },
     "execution_count": 48,
     "metadata": {},
     "output_type": "execute_result"
    }
   ],
   "source": [
    "a=44\n",
    "(a*a)%181"
   ]
  },
  {
   "cell_type": "code",
   "execution_count": 49,
   "metadata": {},
   "outputs": [
    {
     "name": "stdout",
     "output_type": "stream",
     "text": [
      "mcd(2014,4021) = mcd(4021,2014) = mcd(2014,2007) = mcd(2007,7) = mcd(7,5) = mcd(5,2) = mcd(2,1) = mcd(1,0) = 1\n"
     ]
    },
    {
     "data": {
      "text/plain": [
       "1"
      ]
     },
     "execution_count": 49,
     "metadata": {},
     "output_type": "execute_result"
    }
   ],
   "source": [
    "mdc(2014, 4021)"
   ]
  },
  {
   "cell_type": "markdown",
   "metadata": {},
   "source": [
    "### 2.3 - bezout_equation"
   ]
  },
  {
   "cell_type": "code",
   "execution_count": 50,
   "metadata": {},
   "outputs": [
    {
     "name": "stdout",
     "output_type": "stream",
     "text": [
      "46 = 101 - 1 * 55\n"
     ]
    }
   ],
   "source": [
    "eq = bezout_equation(101, 55)\n",
    "print_bezout_eq(eq)"
   ]
  },
  {
   "cell_type": "markdown",
   "metadata": {},
   "source": [
    "### 2.4 - Multiplicative inverses"
   ]
  },
  {
   "cell_type": "markdown",
   "metadata": {},
   "source": [
    "#### a)"
   ]
  },
  {
   "cell_type": "code",
   "execution_count": 51,
   "metadata": {},
   "outputs": [
    {
     "name": "stdout",
     "output_type": "stream",
     "text": [
      "2 = 37 - 7 * 5\n",
      "1 = 5 - 2 * 2\n"
     ]
    }
   ],
   "source": [
    "equations = bezout_equations(mod=37, divisor=5)"
   ]
  },
  {
   "cell_type": "code",
   "execution_count": 52,
   "metadata": {},
   "outputs": [
    {
     "data": {
      "text/plain": [
       "15"
      ]
     },
     "execution_count": 52,
     "metadata": {},
     "output_type": "execute_result"
    }
   ],
   "source": [
    "multiplicative_inverse(mod=37, num=5)"
   ]
  },
  {
   "cell_type": "markdown",
   "metadata": {},
   "source": [
    "#### b)"
   ]
  },
  {
   "cell_type": "code",
   "execution_count": 53,
   "metadata": {},
   "outputs": [
    {
     "name": "stdout",
     "output_type": "stream",
     "text": [
      "nao existem inverso, mdc != 1\n"
     ]
    },
    {
     "data": {
      "text/plain": [
       "0"
      ]
     },
     "execution_count": 53,
     "metadata": {},
     "output_type": "execute_result"
    }
   ],
   "source": [
    "multiplicative_inverse(mod=77, num=7)"
   ]
  },
  {
   "cell_type": "markdown",
   "metadata": {},
   "source": [
    "#### c)"
   ]
  },
  {
   "cell_type": "code",
   "execution_count": 54,
   "metadata": {},
   "outputs": [
    {
     "name": "stdout",
     "output_type": "stream",
     "text": [
      "25 = 1117 - 12 * 91\n",
      "16 = 91 - 3 * 25\n",
      "9 = 25 - 1 * 16\n",
      "7 = 16 - 1 * 9\n",
      "2 = 9 - 1 * 7\n",
      "1 = 7 - 3 * 2\n"
     ]
    }
   ],
   "source": [
    "equations = bezout_equations(mod=1117, divisor=91)"
   ]
  },
  {
   "cell_type": "code",
   "execution_count": 55,
   "metadata": {},
   "outputs": [
    {
     "data": {
      "text/plain": [
       "491"
      ]
     },
     "execution_count": 55,
     "metadata": {},
     "output_type": "execute_result"
    }
   ],
   "source": [
    "multiplicative_inverse(mod=1117, num=91)"
   ]
  },
  {
   "cell_type": "markdown",
   "metadata": {},
   "source": [
    "#### d)"
   ]
  },
  {
   "cell_type": "code",
   "execution_count": 56,
   "metadata": {},
   "outputs": [
    {
     "name": "stdout",
     "output_type": "stream",
     "text": [
      "199373 = 199373 - 0 * 200455571\n",
      "85706 = 200455571 - 1005 * 199373\n",
      "27961 = 199373 - 2 * 85706\n",
      "1823 = 85706 - 3 * 27961\n",
      "616 = 27961 - 15 * 1823\n",
      "591 = 1823 - 2 * 616\n",
      "25 = 616 - 1 * 591\n",
      "16 = 591 - 23 * 25\n",
      "9 = 25 - 1 * 16\n",
      "7 = 16 - 1 * 9\n",
      "2 = 9 - 1 * 7\n",
      "1 = 7 - 3 * 2\n"
     ]
    }
   ],
   "source": [
    "equations = bezout_equations(mod=199373, divisor=200455571)"
   ]
  },
  {
   "cell_type": "code",
   "execution_count": 57,
   "metadata": {},
   "outputs": [
    {
     "data": {
      "text/plain": [
       "87711"
      ]
     },
     "execution_count": 57,
     "metadata": {},
     "output_type": "execute_result"
    }
   ],
   "source": [
    "multiplicative_inverse(mod=199373, num=200455571)"
   ]
  },
  {
   "cell_type": "code",
   "execution_count": 58,
   "metadata": {},
   "outputs": [
    {
     "data": {
      "text/plain": [
       "95"
      ]
     },
     "execution_count": 58,
     "metadata": {},
     "output_type": "execute_result"
    }
   ],
   "source": [
    "multiplicative_inverse(mod=179, num=49)"
   ]
  },
  {
   "cell_type": "code",
   "execution_count": 59,
   "metadata": {},
   "outputs": [
    {
     "data": {
      "text/plain": [
       "44"
      ]
     },
     "execution_count": 59,
     "metadata": {},
     "output_type": "execute_result"
    }
   ],
   "source": [
    "x_module_y(182,138)"
   ]
  },
  {
   "cell_type": "code",
   "execution_count": 60,
   "metadata": {},
   "outputs": [
    {
     "data": {
      "text/plain": [
       "74"
      ]
     },
     "execution_count": 60,
     "metadata": {},
     "output_type": "execute_result"
    }
   ],
   "source": [
    "x_module_y(44*124,138)"
   ]
  },
  {
   "cell_type": "code",
   "execution_count": 61,
   "metadata": {},
   "outputs": [
    {
     "data": {
      "text/plain": [
       "74"
      ]
     },
     "execution_count": 61,
     "metadata": {},
     "output_type": "execute_result"
    }
   ],
   "source": [
    "x_module_y(124*182,138)"
   ]
  },
  {
   "cell_type": "code",
   "execution_count": 62,
   "metadata": {},
   "outputs": [
    {
     "data": {
      "text/plain": [
       "4"
      ]
     },
     "execution_count": 62,
     "metadata": {},
     "output_type": "execute_result"
    }
   ],
   "source": [
    "1088//232"
   ]
  },
  {
   "cell_type": "code",
   "execution_count": 63,
   "metadata": {},
   "outputs": [
    {
     "name": "stdout",
     "output_type": "stream",
     "text": [
      " d , q , s , t \n",
      "[1088, '-', 1, 0]\n",
      "[232, 4, 0, 1]\n",
      "[160, 1, 1, -4]\n",
      "[72, 2, -1, 5]\n",
      "[16, 4, 3, -14]\n",
      "[8, 2, -13, 61]\n",
      "\n",
      "MDC(1088,232) = 8 = -13x1088 + 61x232\n"
     ]
    }
   ],
   "source": [
    "matriz = algoritmo_euclides(maior = 1088, menor = 232)"
   ]
  },
  {
   "cell_type": "code",
   "execution_count": 64,
   "metadata": {},
   "outputs": [
    {
     "name": "stdout",
     "output_type": "stream",
     "text": [
      " d , q , s , t \n",
      "[4021, '-', 1, 0]\n",
      "[2014, 1, 0, 1]\n",
      "[2007, 1, 1, -1]\n",
      "[7, 286, -1, 2]\n",
      "[5, 1, 287, -573]\n",
      "[2, 2, -288, 575]\n",
      "[1, 2, 863, -1723]\n",
      "\n",
      "MDC(4021,2014) = 1 = 863x4021 + -1723x2014\n"
     ]
    }
   ],
   "source": [
    "matriz = algoritmo_euclides(maior = 4021, menor = 2014)"
   ]
  },
  {
   "cell_type": "code",
   "execution_count": 65,
   "metadata": {},
   "outputs": [
    {
     "data": {
      "text/plain": [
       "1"
      ]
     },
     "execution_count": 65,
     "metadata": {},
     "output_type": "execute_result"
    }
   ],
   "source": [
    "-1723*2014 + 863*4021"
   ]
  },
  {
   "cell_type": "code",
   "execution_count": 66,
   "metadata": {},
   "outputs": [
    {
     "name": "stdout",
     "output_type": "stream",
     "text": [
      "[4021, '-', 1, 0, 1, 0]\n",
      "[2014, 1, 0, 1, 0, 1]\n",
      "[2007, 1, 1, -1, 1, -1]\n",
      "[7, 286, -1, 2, -1, 2]\n",
      "[5, 1, 287, -573, 287, -573]\n",
      "[2, 2, -288, 575, -288, 575]\n",
      "[1, 2, 863, -1723, 863, -1723]\n"
     ]
    }
   ],
   "source": [
    "matriz[0] += [1, 0]\n",
    "matriz[1] += [0, 1]\n",
    "for i in range(2, len(matriz)):\n",
    "    proximo_s = matriz[i-2][2] - matriz[i-1][1] * matriz[i-1][2]\n",
    "    proximo_t = matriz[i-2][3] - matriz[i-1][1] * matriz[i-1][3]\n",
    "    matriz[i] += [proximo_s, proximo_t]\n",
    "\n",
    "for linha in matriz:\n",
    "    print(linha)"
   ]
  },
  {
   "cell_type": "markdown",
   "metadata": {},
   "source": [
    "#### T1-Q7"
   ]
  },
  {
   "cell_type": "code",
   "execution_count": 67,
   "metadata": {},
   "outputs": [
    {
     "data": {
      "text/plain": [
       "9"
      ]
     },
     "execution_count": 67,
     "metadata": {},
     "output_type": "execute_result"
    }
   ],
   "source": [
    "multiplicative_inverse(mod=11, num=5)"
   ]
  },
  {
   "cell_type": "code",
   "execution_count": 68,
   "metadata": {},
   "outputs": [
    {
     "data": {
      "text/plain": [
       "8"
      ]
     },
     "execution_count": 68,
     "metadata": {},
     "output_type": "execute_result"
    }
   ],
   "source": [
    "x_module_y(7*9,11)"
   ]
  },
  {
   "cell_type": "markdown",
   "metadata": {},
   "source": [
    "#### T1-Q9"
   ]
  },
  {
   "cell_type": "code",
   "execution_count": 69,
   "metadata": {},
   "outputs": [
    {
     "data": {
      "text/plain": [
       "190"
      ]
     },
     "execution_count": 69,
     "metadata": {},
     "output_type": "execute_result"
    }
   ],
   "source": [
    "multiplicative_inverse(mod=4253, num=291)"
   ]
  },
  {
   "cell_type": "code",
   "execution_count": 70,
   "metadata": {},
   "outputs": [
    {
     "data": {
      "text/plain": [
       "1"
      ]
     },
     "execution_count": 70,
     "metadata": {},
     "output_type": "execute_result"
    }
   ],
   "source": [
    "x_module_y(190*291, 4253)"
   ]
  },
  {
   "cell_type": "markdown",
   "metadata": {},
   "source": [
    "## T1Q3"
   ]
  },
  {
   "cell_type": "code",
   "execution_count": 71,
   "metadata": {},
   "outputs": [
    {
     "name": "stdout",
     "output_type": "stream",
     "text": [
      "[0, 3, 0, 6, 4, 0, 6, 1, 5, 2]\n",
      "[10, 9, 8, 7, 6, 5, 4, 3, 2, 1]\n",
      "132\n",
      "2\n"
     ]
    }
   ],
   "source": [
    "### a) \n",
    "\n",
    "str_num = '0306406152'\n",
    "numeros = [int(char) for char in str_num]\n",
    "pesos = [n for n in range(10, 10 - len(numeros), -1)]\n",
    "soma = sum([num*peso for num, peso in zip(numeros, pesos)])\n",
    "\n",
    "print(numeros)\n",
    "print(pesos)\n",
    "print(soma)\n",
    "print(soma%13)\n",
    "\n",
    "# como 2 é o ultimo digito então r: Verdadeiro"
   ]
  },
  {
   "cell_type": "code",
   "execution_count": 72,
   "metadata": {},
   "outputs": [
    {
     "name": "stdout",
     "output_type": "stream",
     "text": [
      "[1, 7, 2, 4, 8, 0, 5, 6]\n",
      "[10, 9, 8, 7, 6, 5, 4, 3]\n",
      "203\n"
     ]
    }
   ],
   "source": [
    "### b)\n",
    "\n",
    "str_num = '17248056' # +YX\n",
    "numeros = [int(char) for char in str_num]\n",
    "pesos = [n for n in range(10, 10 - len(numeros), -1)]\n",
    "soma = sum([num*peso for num, peso in zip(numeros, pesos)])\n",
    "\n",
    "print(numeros)\n",
    "print(pesos)\n",
    "print(soma)"
   ]
  },
  {
   "cell_type": "code",
   "execution_count": 73,
   "metadata": {},
   "outputs": [
    {
     "data": {
      "text/plain": [
       "5"
      ]
     },
     "execution_count": 73,
     "metadata": {},
     "output_type": "execute_result"
    }
   ],
   "source": [
    "# Então temos que resolver a seuinte equação\n",
    "# 203 +2Y +10 = 10 (mod13)\n",
    "# 213 +2Y = 10 (mod13)\n",
    "(203+10)%13"
   ]
  },
  {
   "cell_type": "code",
   "execution_count": 74,
   "metadata": {},
   "outputs": [
    {
     "data": {
      "text/plain": [
       "7"
      ]
     },
     "execution_count": 74,
     "metadata": {},
     "output_type": "execute_result"
    }
   ],
   "source": [
    "# 5 +2Y = 10 (mod13)\n",
    "# 2Y = 5 (mod13)\n",
    "# Y = 5*1/2 (mod13)\n",
    "multiplicative_inverse(2, 13)"
   ]
  },
  {
   "cell_type": "code",
   "execution_count": 75,
   "metadata": {},
   "outputs": [
    {
     "data": {
      "text/plain": [
       "9"
      ]
     },
     "execution_count": 75,
     "metadata": {},
     "output_type": "execute_result"
    }
   ],
   "source": [
    "# Y = 5*7 (mod13)\n",
    "(5*7)%13"
   ]
  },
  {
   "cell_type": "code",
   "execution_count": 76,
   "metadata": {},
   "outputs": [
    {
     "data": {
      "text/plain": [
       "10"
      ]
     },
     "execution_count": 76,
     "metadata": {},
     "output_type": "execute_result"
    }
   ],
   "source": [
    "(203+2*9+10)%13"
   ]
  },
  {
   "cell_type": "markdown",
   "metadata": {},
   "source": [
    "## 3 - Inversor de matriz!!"
   ]
  },
  {
   "cell_type": "code",
   "execution_count": 77,
   "metadata": {},
   "outputs": [],
   "source": [
    "def aplica_modulo_na_matriz(matriz, mod):\n",
    "    matriz_mod = matriz[:]\n",
    "    for linha in range(len(matriz)):\n",
    "        for coluna in range(len(matriz[0])):\n",
    "            matriz_mod[linha][coluna] = matriz[linha][coluna]%mod\n",
    "    return matriz_mod"
   ]
  },
  {
   "cell_type": "code",
   "execution_count": 78,
   "metadata": {},
   "outputs": [],
   "source": [
    "def inverte_matriz(matriz, mod=1):\n",
    "    dimensao = len(matriz)\n",
    "    \n",
    "    print('Matriz extendida')\n",
    "    matriz_extendida = extend_matrix(my_matrix)   \n",
    "    print_matrix(matriz_extendida)\n",
    "    \n",
    "    print(f'Aplicando modulo {mod}:') \n",
    "    matriz_inversa = aplica_modulo_na_matriz(matriz_extendida, mod)\n",
    "    print_matrix(matriz_inversa)\n",
    "    \n",
    "    for linha in range(dimensao):\n",
    "        pivo = matriz_inversa[linha][linha]\n",
    "        inverso_mul = multiplicative_inverse(pivo, mod)\n",
    "        print(f'inverso muliplicativo de {pivo} = {inverso_mul}')\n",
    "\n",
    "        print(f'L{linha+1} << {inverso_mul}*L{linha+1}')\n",
    "        matriz_inversa[linha] = [a*inverso_mul for a in matriz_inversa[linha]]\n",
    "        print_matrix(matriz_inversa)\n",
    "\n",
    "        print(f'Aplicando modulo {mod}:') \n",
    "        matriz_inversa = aplica_modulo_na_matriz(matriz_inversa, mod)\n",
    "        print_matrix(matriz_inversa)\n",
    "\n",
    "        print(f'Zerando coluna {linha+1}')\n",
    "        for outra_linha in range(dimensao):\n",
    "            \n",
    "            if outra_linha != linha:\n",
    "                cte = matriz_inversa[outra_linha][linha]\n",
    "                print(f'L{outra_linha+1} << L{outra_linha+1} + ({-cte})*L{linha+1}')\n",
    "                matriz_inversa[outra_linha] = [a - b*cte for a, b in zip(matriz_inversa[outra_linha], matriz_inversa[linha])]\n",
    "        print_matrix(matriz_inversa)\n",
    "        \n",
    "        print(f'Aplicando modulo {mod}:') \n",
    "        matriz_inversa = aplica_modulo_na_matriz(matriz_inversa, mod)\n",
    "        print_matrix(matriz_inversa)"
   ]
  },
  {
   "cell_type": "markdown",
   "metadata": {},
   "source": [
    "### 3.1 - exemplo da lista inteiros"
   ]
  },
  {
   "cell_type": "code",
   "execution_count": 79,
   "metadata": {},
   "outputs": [],
   "source": [
    "my_matrix = [\n",
    "    [383351211, 171631, 231651],\n",
    "    [9876543,  211158,  221611],\n",
    "    [270, -399, 191],\n",
    "]\n",
    "\n",
    "mod = 101"
   ]
  },
  {
   "cell_type": "code",
   "execution_count": 80,
   "metadata": {
    "scrolled": true
   },
   "outputs": [
    {
     "name": "stdout",
     "output_type": "stream",
     "text": [
      "Matriz extendida\n",
      "[383351211, 171631, 231651, 1, 0, 0]\n",
      "[9876543, 211158, 221611, 0, 1, 0]\n",
      "[270, -399, 191, 0, 0, 1]\n",
      "Aplicando modulo 101:\n",
      "[55, 32, 58, 1, 0, 0]\n",
      "[56, 68, 17, 0, 1, 0]\n",
      "[68, 5, 90, 0, 0, 1]\n",
      "inverso muliplicativo de 55 = 90\n",
      "L1 << 90*L1\n",
      "[4950, 2880, 5220, 90, 0, 0]\n",
      "[56, 68, 17, 0, 1, 0]\n",
      "[68, 5, 90, 0, 0, 1]\n",
      "Aplicando modulo 101:\n",
      "[1, 52, 69, 90, 0, 0]\n",
      "[56, 68, 17, 0, 1, 0]\n",
      "[68, 5, 90, 0, 0, 1]\n",
      "Zerando coluna 1\n",
      "L2 << L2 + (-56)*L1\n",
      "L3 << L3 + (-68)*L1\n",
      "[1, 52, 69, 90, 0, 0]\n",
      "[0, -2844, -3847, -5040, 1, 0]\n",
      "[0, -3531, -4602, -6120, 0, 1]\n",
      "Aplicando modulo 101:\n",
      "[1, 52, 69, 90, 0, 0]\n",
      "[0, 85, 92, 10, 1, 0]\n",
      "[0, 4, 44, 41, 0, 1]\n",
      "inverso muliplicativo de 85 = 82\n",
      "L2 << 82*L2\n",
      "[1, 52, 69, 90, 0, 0]\n",
      "[0, 6970, 7544, 820, 82, 0]\n",
      "[0, 4, 44, 41, 0, 1]\n",
      "Aplicando modulo 101:\n",
      "[1, 52, 69, 90, 0, 0]\n",
      "[0, 1, 70, 12, 82, 0]\n",
      "[0, 4, 44, 41, 0, 1]\n",
      "Zerando coluna 2\n",
      "L1 << L1 + (-52)*L2\n",
      "L3 << L3 + (-4)*L2\n",
      "[1, 0, -3571, -534, -4264, 0]\n",
      "[0, 1, 70, 12, 82, 0]\n",
      "[0, 0, -236, -7, -328, 1]\n",
      "Aplicando modulo 101:\n",
      "[1, 0, 65, 72, 79, 0]\n",
      "[0, 1, 70, 12, 82, 0]\n",
      "[0, 0, 67, 94, 76, 1]\n",
      "inverso muliplicativo de 67 = 98\n",
      "L3 << 98*L3\n",
      "[1, 0, 65, 72, 79, 0]\n",
      "[0, 1, 70, 12, 82, 0]\n",
      "[0, 0, 6566, 9212, 7448, 98]\n",
      "Aplicando modulo 101:\n",
      "[1, 0, 65, 72, 79, 0]\n",
      "[0, 1, 70, 12, 82, 0]\n",
      "[0, 0, 1, 21, 75, 98]\n",
      "Zerando coluna 3\n",
      "L1 << L1 + (-65)*L3\n",
      "L2 << L2 + (-70)*L3\n",
      "[1, 0, 0, -1293, -4796, -6370]\n",
      "[0, 1, 0, -1458, -5168, -6860]\n",
      "[0, 0, 1, 21, 75, 98]\n",
      "Aplicando modulo 101:\n",
      "[1, 0, 0, 20, 52, 94]\n",
      "[0, 1, 0, 57, 84, 8]\n",
      "[0, 0, 1, 21, 75, 98]\n"
     ]
    }
   ],
   "source": [
    "inverte_matriz(matriz=my_matrix, mod=mod)"
   ]
  },
  {
   "cell_type": "markdown",
   "metadata": {},
   "source": [
    "### 3.2 - Outro exemplo da lista inteiros"
   ]
  },
  {
   "cell_type": "code",
   "execution_count": 81,
   "metadata": {
    "scrolled": true
   },
   "outputs": [
    {
     "name": "stdout",
     "output_type": "stream",
     "text": [
      "Matriz extendida\n",
      "[7, 2, 1, 0]\n",
      "[3, 11, 0, 1]\n",
      "Aplicando modulo 31:\n",
      "[7, 2, 1, 0]\n",
      "[3, 11, 0, 1]\n",
      "inverso muliplicativo de 7 = 9\n",
      "L1 << 9*L1\n",
      "[63, 18, 9, 0]\n",
      "[3, 11, 0, 1]\n",
      "Aplicando modulo 31:\n",
      "[1, 18, 9, 0]\n",
      "[3, 11, 0, 1]\n",
      "Zerando coluna 1\n",
      "L2 << L2 + (-3)*L1\n",
      "[1, 18, 9, 0]\n",
      "[0, -43, -27, 1]\n",
      "Aplicando modulo 31:\n",
      "[1, 18, 9, 0]\n",
      "[0, 19, 4, 1]\n",
      "inverso muliplicativo de 19 = 18\n",
      "L2 << 18*L2\n",
      "[1, 18, 9, 0]\n",
      "[0, 342, 72, 18]\n",
      "Aplicando modulo 31:\n",
      "[1, 18, 9, 0]\n",
      "[0, 1, 10, 18]\n",
      "Zerando coluna 2\n",
      "L1 << L1 + (-18)*L2\n",
      "[1, 0, -171, -324]\n",
      "[0, 1, 10, 18]\n",
      "Aplicando modulo 31:\n",
      "[1, 0, 15, 17]\n",
      "[0, 1, 10, 18]\n"
     ]
    }
   ],
   "source": [
    "my_matrix = [\n",
    "    [7, 2],\n",
    "    [3,  11],\n",
    "]\n",
    "\n",
    "mod = 31\n",
    "\n",
    "inverte_matriz(matriz=my_matrix, mod=mod)"
   ]
  },
  {
   "cell_type": "markdown",
   "metadata": {},
   "source": [
    "### 3.3 - Exercicio da lista inteiros"
   ]
  },
  {
   "cell_type": "code",
   "execution_count": 82,
   "metadata": {
    "scrolled": true
   },
   "outputs": [
    {
     "name": "stdout",
     "output_type": "stream",
     "text": [
      "Matriz extendida\n",
      "[11, 17, 5, 1, 0, 0]\n",
      "[21, 18, 21, 0, 1, 0]\n",
      "[2, 2, 19, 0, 0, 1]\n",
      "Aplicando modulo 23:\n",
      "[11, 17, 5, 1, 0, 0]\n",
      "[21, 18, 21, 0, 1, 0]\n",
      "[2, 2, 19, 0, 0, 1]\n",
      "inverso muliplicativo de 11 = 21\n",
      "L1 << 21*L1\n",
      "[231, 357, 105, 21, 0, 0]\n",
      "[21, 18, 21, 0, 1, 0]\n",
      "[2, 2, 19, 0, 0, 1]\n",
      "Aplicando modulo 23:\n",
      "[1, 12, 13, 21, 0, 0]\n",
      "[21, 18, 21, 0, 1, 0]\n",
      "[2, 2, 19, 0, 0, 1]\n",
      "Zerando coluna 1\n",
      "L2 << L2 + (-21)*L1\n",
      "L3 << L3 + (-2)*L1\n",
      "[1, 12, 13, 21, 0, 0]\n",
      "[0, -234, -252, -441, 1, 0]\n",
      "[0, -22, -7, -42, 0, 1]\n",
      "Aplicando modulo 23:\n",
      "[1, 12, 13, 21, 0, 0]\n",
      "[0, 19, 1, 19, 1, 0]\n",
      "[0, 1, 16, 4, 0, 1]\n",
      "inverso muliplicativo de 19 = 17\n",
      "L2 << 17*L2\n",
      "[1, 12, 13, 21, 0, 0]\n",
      "[0, 323, 17, 323, 17, 0]\n",
      "[0, 1, 16, 4, 0, 1]\n",
      "Aplicando modulo 23:\n",
      "[1, 12, 13, 21, 0, 0]\n",
      "[0, 1, 17, 1, 17, 0]\n",
      "[0, 1, 16, 4, 0, 1]\n",
      "Zerando coluna 2\n",
      "L1 << L1 + (-12)*L2\n",
      "L3 << L3 + (-1)*L2\n",
      "[1, 0, -191, 9, -204, 0]\n",
      "[0, 1, 17, 1, 17, 0]\n",
      "[0, 0, -1, 3, -17, 1]\n",
      "Aplicando modulo 23:\n",
      "[1, 0, 16, 9, 3, 0]\n",
      "[0, 1, 17, 1, 17, 0]\n",
      "[0, 0, 22, 3, 6, 1]\n",
      "inverso muliplicativo de 22 = 22\n",
      "L3 << 22*L3\n",
      "[1, 0, 16, 9, 3, 0]\n",
      "[0, 1, 17, 1, 17, 0]\n",
      "[0, 0, 484, 66, 132, 22]\n",
      "Aplicando modulo 23:\n",
      "[1, 0, 16, 9, 3, 0]\n",
      "[0, 1, 17, 1, 17, 0]\n",
      "[0, 0, 1, 20, 17, 22]\n",
      "Zerando coluna 3\n",
      "L1 << L1 + (-16)*L3\n",
      "L2 << L2 + (-17)*L3\n",
      "[1, 0, 0, -311, -269, -352]\n",
      "[0, 1, 0, -339, -272, -374]\n",
      "[0, 0, 1, 20, 17, 22]\n",
      "Aplicando modulo 23:\n",
      "[1, 0, 0, 11, 7, 16]\n",
      "[0, 1, 0, 6, 4, 17]\n",
      "[0, 0, 1, 20, 17, 22]\n"
     ]
    }
   ],
   "source": [
    "my_matrix = [\n",
    "    [11, 17, 5],\n",
    "    [21, 18, 21],\n",
    "    [2, 2, 19],\n",
    "]\n",
    "\n",
    "mod = 23\n",
    "\n",
    "inverte_matriz(matriz=my_matrix, mod=mod)"
   ]
  },
  {
   "cell_type": "code",
   "execution_count": 83,
   "metadata": {},
   "outputs": [
    {
     "name": "stdout",
     "output_type": "stream",
     "text": [
      "Matriz extendida\n",
      "[49, 119, 213, 34, 1, 0, 0, 0]\n",
      "[55, 315, 418, 10, 0, 1, 0, 0]\n",
      "[3, 12, 11, 4568, 0, 0, 1, 0]\n",
      "[23, 1321, 111, 4768, 0, 0, 0, 1]\n",
      "Aplicando modulo 179:\n",
      "[49, 119, 34, 34, 1, 0, 0, 0]\n",
      "[55, 136, 60, 10, 0, 1, 0, 0]\n",
      "[3, 12, 11, 93, 0, 0, 1, 0]\n",
      "[23, 68, 111, 114, 0, 0, 0, 1]\n",
      "inverso muliplicativo de 49 = 95\n",
      "L1 << 95*L1\n",
      "[4655, 11305, 3230, 3230, 95, 0, 0, 0]\n",
      "[55, 136, 60, 10, 0, 1, 0, 0]\n",
      "[3, 12, 11, 93, 0, 0, 1, 0]\n",
      "[23, 68, 111, 114, 0, 0, 0, 1]\n",
      "Aplicando modulo 179:\n",
      "[1, 28, 8, 8, 95, 0, 0, 0]\n",
      "[55, 136, 60, 10, 0, 1, 0, 0]\n",
      "[3, 12, 11, 93, 0, 0, 1, 0]\n",
      "[23, 68, 111, 114, 0, 0, 0, 1]\n",
      "Zerando coluna 1\n",
      "L2 << L2 + (-55)*L1\n",
      "L3 << L3 + (-3)*L1\n",
      "L4 << L4 + (-23)*L1\n",
      "[1, 28, 8, 8, 95, 0, 0, 0]\n",
      "[0, -1404, -380, -430, -5225, 1, 0, 0]\n",
      "[0, -72, -13, 69, -285, 0, 1, 0]\n",
      "[0, -576, -73, -70, -2185, 0, 0, 1]\n",
      "Aplicando modulo 179:\n",
      "[1, 28, 8, 8, 95, 0, 0, 0]\n",
      "[0, 28, 157, 107, 145, 1, 0, 0]\n",
      "[0, 107, 166, 69, 73, 0, 1, 0]\n",
      "[0, 140, 106, 109, 142, 0, 0, 1]\n",
      "inverso muliplicativo de 28 = 32\n",
      "L2 << 32*L2\n",
      "[1, 28, 8, 8, 95, 0, 0, 0]\n",
      "[0, 896, 5024, 3424, 4640, 32, 0, 0]\n",
      "[0, 107, 166, 69, 73, 0, 1, 0]\n",
      "[0, 140, 106, 109, 142, 0, 0, 1]\n",
      "Aplicando modulo 179:\n",
      "[1, 28, 8, 8, 95, 0, 0, 0]\n",
      "[0, 1, 12, 23, 165, 32, 0, 0]\n",
      "[0, 107, 166, 69, 73, 0, 1, 0]\n",
      "[0, 140, 106, 109, 142, 0, 0, 1]\n",
      "Zerando coluna 2\n",
      "L1 << L1 + (-28)*L2\n",
      "L3 << L3 + (-107)*L2\n",
      "L4 << L4 + (-140)*L2\n",
      "[1, 0, -328, -636, -4525, -896, 0, 0]\n",
      "[0, 1, 12, 23, 165, 32, 0, 0]\n",
      "[0, 0, -1118, -2392, -17582, -3424, 1, 0]\n",
      "[0, 0, -1574, -3111, -22958, -4480, 0, 1]\n",
      "Aplicando modulo 179:\n",
      "[1, 0, 30, 80, 129, 178, 0, 0]\n",
      "[0, 1, 12, 23, 165, 32, 0, 0]\n",
      "[0, 0, 135, 114, 139, 156, 1, 0]\n",
      "[0, 0, 37, 111, 133, 174, 0, 1]\n",
      "inverso muliplicativo de 135 = 61\n",
      "L3 << 61*L3\n",
      "[1, 0, 30, 80, 129, 178, 0, 0]\n",
      "[0, 1, 12, 23, 165, 32, 0, 0]\n",
      "[0, 0, 8235, 6954, 8479, 9516, 61, 0]\n",
      "[0, 0, 37, 111, 133, 174, 0, 1]\n",
      "Aplicando modulo 179:\n",
      "[1, 0, 30, 80, 129, 178, 0, 0]\n",
      "[0, 1, 12, 23, 165, 32, 0, 0]\n",
      "[0, 0, 1, 152, 66, 29, 61, 0]\n",
      "[0, 0, 37, 111, 133, 174, 0, 1]\n",
      "Zerando coluna 3\n",
      "L1 << L1 + (-30)*L3\n",
      "L2 << L2 + (-12)*L3\n",
      "L4 << L4 + (-37)*L3\n",
      "[1, 0, 0, -4480, -1851, -692, -1830, 0]\n",
      "[0, 1, 0, -1801, -627, -316, -732, 0]\n",
      "[0, 0, 1, 152, 66, 29, 61, 0]\n",
      "[0, 0, 0, -5513, -2309, -899, -2257, 1]\n",
      "Aplicando modulo 179:\n",
      "[1, 0, 0, 174, 118, 24, 139, 0]\n",
      "[0, 1, 0, 168, 89, 42, 163, 0]\n",
      "[0, 0, 1, 152, 66, 29, 61, 0]\n",
      "[0, 0, 0, 36, 18, 175, 70, 1]\n",
      "inverso muliplicativo de 36 = 5\n",
      "L4 << 5*L4\n",
      "[1, 0, 0, 174, 118, 24, 139, 0]\n",
      "[0, 1, 0, 168, 89, 42, 163, 0]\n",
      "[0, 0, 1, 152, 66, 29, 61, 0]\n",
      "[0, 0, 0, 180, 90, 875, 350, 5]\n",
      "Aplicando modulo 179:\n",
      "[1, 0, 0, 174, 118, 24, 139, 0]\n",
      "[0, 1, 0, 168, 89, 42, 163, 0]\n",
      "[0, 0, 1, 152, 66, 29, 61, 0]\n",
      "[0, 0, 0, 1, 90, 159, 171, 5]\n",
      "Zerando coluna 4\n",
      "L1 << L1 + (-174)*L4\n",
      "L2 << L2 + (-168)*L4\n",
      "L3 << L3 + (-152)*L4\n",
      "[1, 0, 0, 0, -15542, -27642, -29615, -870]\n",
      "[0, 1, 0, 0, -15031, -26670, -28565, -840]\n",
      "[0, 0, 1, 0, -13614, -24139, -25931, -760]\n",
      "[0, 0, 0, 1, 90, 159, 171, 5]\n",
      "Aplicando modulo 179:\n",
      "[1, 0, 0, 0, 31, 103, 99, 25]\n",
      "[0, 1, 0, 0, 5, 1, 75, 55]\n",
      "[0, 0, 1, 0, 169, 26, 24, 135]\n",
      "[0, 0, 0, 1, 90, 159, 171, 5]\n"
     ]
    }
   ],
   "source": [
    "my_matrix = [\n",
    "    [49, 119, 213, 34],\n",
    "    [55, 315, 418, 10],\n",
    "    [3, 12, 11, 4568],\n",
    "    [23, 1321, 111, 4768],\n",
    "]\n",
    "\n",
    "mod = 179\n",
    "\n",
    "inverte_matriz(matriz=my_matrix, mod=mod)"
   ]
  },
  {
   "cell_type": "code",
   "execution_count": 84,
   "metadata": {
    "scrolled": true
   },
   "outputs": [
    {
     "name": "stdout",
     "output_type": "stream",
     "text": [
      "Matriz extendida\n",
      "[119, 213, 34, 1, 0, 0]\n",
      "[315, 418, 10, 0, 1, 0]\n",
      "[12, 11, 4568, 0, 0, 1]\n",
      "Aplicando modulo 181:\n",
      "[119, 32, 34, 1, 0, 0]\n",
      "[134, 56, 10, 0, 1, 0]\n",
      "[12, 11, 43, 0, 0, 1]\n",
      "inverso muliplicativo de 119 = 108\n",
      "L1 << 108*L1\n",
      "[12852, 3456, 3672, 108, 0, 0]\n",
      "[134, 56, 10, 0, 1, 0]\n",
      "[12, 11, 43, 0, 0, 1]\n",
      "Aplicando modulo 181:\n",
      "[1, 17, 52, 108, 0, 0]\n",
      "[134, 56, 10, 0, 1, 0]\n",
      "[12, 11, 43, 0, 0, 1]\n",
      "Zerando coluna 1\n",
      "L2 << L2 + (-134)*L1\n",
      "L3 << L3 + (-12)*L1\n",
      "[1, 17, 52, 108, 0, 0]\n",
      "[0, -2222, -6958, -14472, 1, 0]\n",
      "[0, -193, -581, -1296, 0, 1]\n",
      "Aplicando modulo 181:\n",
      "[1, 17, 52, 108, 0, 0]\n",
      "[0, 131, 101, 8, 1, 0]\n",
      "[0, 169, 143, 152, 0, 1]\n",
      "inverso muliplicativo de 131 = 76\n",
      "L2 << 76*L2\n",
      "[1, 17, 52, 108, 0, 0]\n",
      "[0, 9956, 7676, 608, 76, 0]\n",
      "[0, 169, 143, 152, 0, 1]\n",
      "Aplicando modulo 181:\n",
      "[1, 17, 52, 108, 0, 0]\n",
      "[0, 1, 74, 65, 76, 0]\n",
      "[0, 169, 143, 152, 0, 1]\n",
      "Zerando coluna 2\n",
      "L1 << L1 + (-17)*L2\n",
      "L3 << L3 + (-169)*L2\n",
      "[1, 0, -1206, -997, -1292, 0]\n",
      "[0, 1, 74, 65, 76, 0]\n",
      "[0, 0, -12363, -10833, -12844, 1]\n",
      "Aplicando modulo 181:\n",
      "[1, 0, 61, 89, 156, 0]\n",
      "[0, 1, 74, 65, 76, 0]\n",
      "[0, 0, 126, 27, 7, 1]\n",
      "inverso muliplicativo de 126 = 102\n",
      "L3 << 102*L3\n",
      "[1, 0, 61, 89, 156, 0]\n",
      "[0, 1, 74, 65, 76, 0]\n",
      "[0, 0, 12852, 2754, 714, 102]\n",
      "Aplicando modulo 181:\n",
      "[1, 0, 61, 89, 156, 0]\n",
      "[0, 1, 74, 65, 76, 0]\n",
      "[0, 0, 1, 39, 171, 102]\n",
      "Zerando coluna 3\n",
      "L1 << L1 + (-61)*L3\n",
      "L2 << L2 + (-74)*L3\n",
      "[1, 0, 0, -2290, -10275, -6222]\n",
      "[0, 1, 0, -2821, -12578, -7548]\n",
      "[0, 0, 1, 39, 171, 102]\n",
      "Aplicando modulo 181:\n",
      "[1, 0, 0, 63, 42, 113]\n",
      "[0, 1, 0, 75, 92, 54]\n",
      "[0, 0, 1, 39, 171, 102]\n"
     ]
    }
   ],
   "source": [
    "my_matrix = [\n",
    "    [119, 213, 34],\n",
    "    [315, 418, 10],\n",
    "    [12, 11, 4568],\n",
    "]\n",
    "\n",
    "mod = 181\n",
    "\n",
    "inverte_matriz(matriz=my_matrix, mod=mod)"
   ]
  },
  {
   "cell_type": "code",
   "execution_count": 85,
   "metadata": {
    "scrolled": true
   },
   "outputs": [
    {
     "name": "stdout",
     "output_type": "stream",
     "text": [
      "Matriz extendida\n",
      "[15, 17, 1, 0]\n",
      "[10, 18, 0, 1]\n",
      "Aplicando modulo 31:\n",
      "[15, 17, 1, 0]\n",
      "[10, 18, 0, 1]\n",
      "inverso muliplicativo de 15 = 29\n",
      "L1 << 29*L1\n",
      "[435, 493, 29, 0]\n",
      "[10, 18, 0, 1]\n",
      "Aplicando modulo 31:\n",
      "[1, 28, 29, 0]\n",
      "[10, 18, 0, 1]\n",
      "Zerando coluna 1\n",
      "L2 << L2 + (-10)*L1\n",
      "[1, 28, 29, 0]\n",
      "[0, -262, -290, 1]\n",
      "Aplicando modulo 31:\n",
      "[1, 28, 29, 0]\n",
      "[0, 17, 20, 1]\n",
      "inverso muliplicativo de 17 = 11\n",
      "L2 << 11*L2\n",
      "[1, 28, 29, 0]\n",
      "[0, 187, 220, 11]\n",
      "Aplicando modulo 31:\n",
      "[1, 28, 29, 0]\n",
      "[0, 1, 3, 11]\n",
      "Zerando coluna 2\n",
      "L1 << L1 + (-28)*L2\n",
      "[1, 0, -55, -308]\n",
      "[0, 1, 3, 11]\n",
      "Aplicando modulo 31:\n",
      "[1, 0, 7, 2]\n",
      "[0, 1, 3, 11]\n"
     ]
    }
   ],
   "source": [
    "my_matrix = [\n",
    "    [15, 17],\n",
    "    [10, 18],\n",
    "]\n",
    "\n",
    "mod = 31\n",
    "\n",
    "inverte_matriz(matriz=my_matrix, mod=mod)"
   ]
  },
  {
   "cell_type": "markdown",
   "metadata": {},
   "source": [
    "## 4.1 - método de interpolação polinomial de Lagrange modular\n",
    "\n",
    "![lagrange](img1.png)"
   ]
  },
  {
   "cell_type": "code",
   "execution_count": 116,
   "metadata": {},
   "outputs": [],
   "source": [
    "def lagrange(pontos, mod, x):\n",
    "    \n",
    "    X = [p[0] for p in pontos]\n",
    "    Y = [p[1] for p in pontos]\n",
    "    n = len(pontos) - 1\n",
    "\n",
    "    print(f'X: {X}')\n",
    "    print(f'Y: {Y}')\n",
    "    print(f'n: {n}')\n",
    "    print()\n",
    "    print(f'm(x) = S_k=0,n={n} [yk * P_j=0,j!=k,n={n} (x - xj)/(xk - xj)]  (mod {mod})')\n",
    "    print()\n",
    "#     print(f'm({x}) = S_k=0,n={n} [yk * P_j=0,j!=k,n={n} ({x} - xj)/(xk - xj)]  (mod {mod})')\n",
    "#     print()\n",
    "    \n",
    "    print(f'm(x) =')\n",
    "    for k in range(0,n+1):\n",
    "        print(f'     + y{k} * P_j=0,j!={k},n={n} (x - xj)/(x{k} - xj)  (mod {mod})')\n",
    "        \n",
    "#     print()    \n",
    "#     print(f'm({x}) =')\n",
    "#     for k in range(0,n+1):\n",
    "#         print(f'     + {Y[k]} * P_j=0,j!={k},n={n} ({x} - xj)/(x{k} - xj)  (mod {mod})')\n",
    "    \n",
    "#     print()\n",
    "#     print(f'm({x}) =')\n",
    "#     for k in range(0,n+1):\n",
    "#         print(f'     + {Y[k]} ', end='')\n",
    "#         for j in range(0,n+1):\n",
    "#             if k != j:\n",
    "#                 print(f'* ({x} - x{j})/(x{k} - x{j}) ', end='')\n",
    "#         print()\n",
    "#     print(f'{\" \"*50}(mod {mod})') \n",
    "\n",
    "    print()\n",
    "    print('Polinomio interpolador:')\n",
    "    print(f'm(x) =')\n",
    "    for k in range(0,n+1):\n",
    "        print(f'     + y{k} ', end='')\n",
    "        for j in range(0,n+1):\n",
    "            if k != j:\n",
    "                print(f'* (x - x{j})/(x{k} - x{j}) ', end='')\n",
    "        print()\n",
    "    print(f'{\" \"*50}(mod {mod})') \n",
    "    \n",
    "    print()\n",
    "    print(f'm({x}) =')\n",
    "    for k in range(0,n+1):\n",
    "        print(f'     + {Y[k]} ', end='')\n",
    "        for j in range(0,n+1):\n",
    "            if k != j:\n",
    "                print(f'* ({x} - {X[j]})/({X[k]} - {X[j]}) ', end='')\n",
    "        print()\n",
    "    print(f'{\" \"*50}(mod {mod})') \n",
    "    \n",
    "    print()\n",
    "    print(f'm({x}) =')\n",
    "    print(f'     ', end='')\n",
    "    for k in range(0,n+1):\n",
    "        print(f'+ {Y[k]} ', end='')\n",
    "        for j in range(0,n+1):\n",
    "            if k != j:\n",
    "                print(f'* {x-X[j]}/{X[k]-X[j]} ', end='')\n",
    "    print(f'{\" \"*50}(mod {mod})')\n",
    "    \n",
    "    print()\n",
    "    print(f'm({x}) =')\n",
    "    print(f'     ', end='')\n",
    "    for k in range(0,n+1):\n",
    "        r = Y[k]\n",
    "        q = 1\n",
    "        for j in range(0,n+1):\n",
    "            if k != j:\n",
    "                r *= x-X[j]\n",
    "                q *= X[k]-X[j]\n",
    "        print(f'+ {r}/{q} ', end='')\n",
    "    print(f'(mod {mod})')\n",
    "    \n",
    "    print()\n",
    "    resultado = 0\n",
    "    for k in range(0,n+1):\n",
    "        r = Y[k]\n",
    "        q = 1\n",
    "        for j in range(0,n+1):\n",
    "            if k != j:\n",
    "                r *= x-X[j]\n",
    "                q *= X[k]-X[j]\n",
    "        resultado += r/q\n",
    "\n",
    "    print(f'm({x}) = {resultado}  (mod {mod})')\n",
    "    print()\n",
    "    print(f'm({x}) = {resultado%mod}  (mod {mod})')"
   ]
  },
  {
   "cell_type": "code",
   "execution_count": 117,
   "metadata": {},
   "outputs": [],
   "source": [
    "pontos = [\n",
    "    [1,2],\n",
    "    [2,5],\n",
    "    [3,7],\n",
    "]\n",
    "\n",
    "mod = 13\n",
    "\n",
    "# m(x=0)\n",
    "x = 0"
   ]
  },
  {
   "cell_type": "code",
   "execution_count": 118,
   "metadata": {
    "scrolled": false
   },
   "outputs": [
    {
     "name": "stdout",
     "output_type": "stream",
     "text": [
      "X: [1, 2, 3]\n",
      "Y: [2, 5, 7]\n",
      "n: 2\n",
      "\n",
      "m(x) = S_k=0,n=2 [yk * P_j=0,j!=k,n=2 (x - xj)/(xk - xj)]  (mod 13)\n",
      "\n",
      "m(x) =\n",
      "     + y0 * P_j=0,j!=0,n=2 (x - xj)/(x0 - xj)  (mod 13)\n",
      "     + y1 * P_j=0,j!=1,n=2 (x - xj)/(x1 - xj)  (mod 13)\n",
      "     + y2 * P_j=0,j!=2,n=2 (x - xj)/(x2 - xj)  (mod 13)\n",
      "\n",
      "Polinomio interpolador:\n",
      "m(x) =\n",
      "     + y0 * (x - x1)/(x0 - x1) * (x - x2)/(x0 - x2) \n",
      "     + y1 * (x - x0)/(x1 - x0) * (x - x2)/(x1 - x2) \n",
      "     + y2 * (x - x0)/(x2 - x0) * (x - x1)/(x2 - x1) \n",
      "                                                  (mod 13)\n",
      "\n",
      "m(0) =\n",
      "     + 2 * (0 - 2)/(1 - 2) * (0 - 3)/(1 - 3) \n",
      "     + 5 * (0 - 1)/(2 - 1) * (0 - 3)/(2 - 3) \n",
      "     + 7 * (0 - 1)/(3 - 1) * (0 - 2)/(3 - 2) \n",
      "                                                  (mod 13)\n",
      "\n",
      "m(0) =\n",
      "     + 2 * -2/-1 * -3/-2 + 5 * -1/1 * -3/-1 + 7 * -1/2 * -2/1                                                   (mod 13)\n",
      "\n",
      "m(0) =\n",
      "     + 12/2 + 15/-1 + 14/2 (mod 13)\n",
      "\n",
      "m(0) = -2.0  (mod 13)\n",
      "\n",
      "m(0) = 11.0  (mod 13)\n"
     ]
    }
   ],
   "source": [
    "lagrange(pontos=pontos, mod=mod, x=x)"
   ]
  },
  {
   "cell_type": "markdown",
   "metadata": {},
   "source": [
    "## Coisas não acabadas"
   ]
  },
  {
   "cell_type": "code",
   "execution_count": null,
   "metadata": {},
   "outputs": [],
   "source": []
  },
  {
   "cell_type": "code",
   "execution_count": null,
   "metadata": {},
   "outputs": [],
   "source": []
  },
  {
   "cell_type": "code",
   "execution_count": null,
   "metadata": {},
   "outputs": [],
   "source": []
  },
  {
   "cell_type": "code",
   "execution_count": 89,
   "metadata": {},
   "outputs": [
    {
     "name": "stdout",
     "output_type": "stream",
     "text": [
      "X: [1, 2, 3]\n",
      "Y: [2, 5, 7]\n",
      "n: 2\n"
     ]
    }
   ],
   "source": [
    "X = [p[0] for p in pontos]\n",
    "Y = [p[1] for p in pontos]\n",
    "n = len(pontos) - 1\n",
    "\n",
    "print(f'X: {X}')\n",
    "print(f'Y: {Y}')\n",
    "print(f'n: {n}')"
   ]
  },
  {
   "cell_type": "code",
   "execution_count": 90,
   "metadata": {},
   "outputs": [
    {
     "name": "stdout",
     "output_type": "stream",
     "text": [
      "m(x) = S_k=0,n=2 [yk * P_j=0,j!=k,n=2 (x - xj)/(xk - xj)]  (mod 13)\n",
      "\n",
      "m(0) = S_k=0,n=2 [yk * P_j=0,j!=k,n=2 (0 - xj)/(xk - xj)]  (mod 13)\n",
      "\n"
     ]
    }
   ],
   "source": [
    "print(f'm(x) = S_k=0,n={n} [yk * P_j=0,j!=k,n={n} (x - xj)/(xk - xj)]  (mod {mod})')\n",
    "print()\n",
    "print(f'm({x}) = S_k=0,n={n} [yk * P_j=0,j!=k,n={n} ({x} - xj)/(xk - xj)]  (mod {mod})')\n",
    "print()"
   ]
  },
  {
   "cell_type": "code",
   "execution_count": 91,
   "metadata": {},
   "outputs": [
    {
     "name": "stdout",
     "output_type": "stream",
     "text": [
      "m(0) =\n",
      "     + y0 * P_j=0,j!=0,n=2 (0 - xj)/(x0 - xj)  (mod 13)\n",
      "     + y1 * P_j=0,j!=1,n=2 (0 - xj)/(x1 - xj)  (mod 13)\n",
      "     + y2 * P_j=0,j!=2,n=2 (0 - xj)/(x2 - xj)  (mod 13)\n"
     ]
    }
   ],
   "source": [
    "print(f'm({x}) =')\n",
    "for k in range(0,n+1):\n",
    "    print(f'     + y{k} * P_j=0,j!={k},n={n} ({x} - xj)/(x{k} - xj)  (mod {mod})')"
   ]
  },
  {
   "cell_type": "code",
   "execution_count": 92,
   "metadata": {},
   "outputs": [
    {
     "name": "stdout",
     "output_type": "stream",
     "text": [
      "m(0) =\n",
      "     + 2 * P_j=0,j!=0,n=2 (0 - xj)/(x0 - xj)  (mod 13)\n",
      "     + 5 * P_j=0,j!=1,n=2 (0 - xj)/(x1 - xj)  (mod 13)\n",
      "     + 7 * P_j=0,j!=2,n=2 (0 - xj)/(x2 - xj)  (mod 13)\n"
     ]
    }
   ],
   "source": [
    "print(f'm({x}) =')\n",
    "for k in range(0,n+1):\n",
    "    print(f'     + {Y[k]} * P_j=0,j!={k},n={n} ({x} - xj)/(x{k} - xj)  (mod {mod})')"
   ]
  },
  {
   "cell_type": "code",
   "execution_count": 93,
   "metadata": {},
   "outputs": [
    {
     "name": "stdout",
     "output_type": "stream",
     "text": [
      "m(0) =\n",
      "     + 2 * (0 - x1)/(x0 - x1) * (0 - x2)/(x0 - x2) \n",
      "     + 5 * (0 - x0)/(x1 - x0) * (0 - x2)/(x1 - x2) \n",
      "     + 7 * (0 - x0)/(x2 - x0) * (0 - x1)/(x2 - x1) \n",
      "                                                  (mod 13)\n"
     ]
    }
   ],
   "source": [
    "print(f'm({x}) =')\n",
    "for k in range(0,n+1):\n",
    "    print(f'     + {Y[k]} ', end='')\n",
    "    for j in range(0,n+1):\n",
    "        if k != j:\n",
    "            print(f'* ({x} - x{j})/(x{k} - x{j}) ', end='')\n",
    "    print()\n",
    "print(f'{\" \"*50}(mod {mod})') "
   ]
  },
  {
   "cell_type": "code",
   "execution_count": 94,
   "metadata": {},
   "outputs": [
    {
     "name": "stdout",
     "output_type": "stream",
     "text": [
      "m(0) =\n",
      "     + 2 * (0 - 2)/(1 - 2) * (0 - 3)/(1 - 3) \n",
      "     + 5 * (0 - 1)/(2 - 1) * (0 - 3)/(2 - 3) \n",
      "     + 7 * (0 - 1)/(3 - 1) * (0 - 2)/(3 - 2) \n",
      "                                                  (mod 13)\n"
     ]
    }
   ],
   "source": [
    "print(f'm({x}) =')\n",
    "for k in range(0,n+1):\n",
    "    print(f'     + {Y[k]} ', end='')\n",
    "    for j in range(0,n+1):\n",
    "        if k != j:\n",
    "            print(f'* ({x} - {X[j]})/({X[k]} - {X[j]}) ', end='')\n",
    "    print()\n",
    "print(f'{\" \"*50}(mod {mod})') "
   ]
  },
  {
   "cell_type": "code",
   "execution_count": 95,
   "metadata": {},
   "outputs": [
    {
     "name": "stdout",
     "output_type": "stream",
     "text": [
      "m(0) =\n",
      "     + 2 * (-2)/(-1) * (-3)/(-2) + 5 * (-1)/(1) * (-3)/(-1) + 7 * (-1)/(2) * (-2)/(1)                                                   (mod 13)\n"
     ]
    }
   ],
   "source": [
    "print(f'm({x}) =')\n",
    "print(f'     ', end='')\n",
    "for k in range(0,n+1):\n",
    "    print(f'+ {Y[k]} ', end='')\n",
    "    for j in range(0,n+1):\n",
    "        if k != j:\n",
    "            print(f'* ({x-X[j]})/({X[k]-X[j]}) ', end='')\n",
    "print(f'{\" \"*50}(mod {mod})') "
   ]
  },
  {
   "cell_type": "code",
   "execution_count": 96,
   "metadata": {},
   "outputs": [
    {
     "name": "stdout",
     "output_type": "stream",
     "text": [
      "m(0) =\n",
      "     + 12/2 + 15/-1 + 14/2 (mod 13)\n"
     ]
    }
   ],
   "source": [
    "print(f'm({x}) =')\n",
    "print(f'     ', end='')\n",
    "for k in range(0,n+1):\n",
    "    r = Y[k]\n",
    "    q = 1\n",
    "    for j in range(0,n+1):\n",
    "        if k != j:\n",
    "            r *= x-X[j]\n",
    "            q *= X[k]-X[j]\n",
    "    print(f'+ {r}/{q} ', end='')\n",
    "print(f'(mod {mod})')"
   ]
  },
  {
   "cell_type": "code",
   "execution_count": 97,
   "metadata": {},
   "outputs": [
    {
     "name": "stdout",
     "output_type": "stream",
     "text": [
      "m(0) = -2.0  (mod 13)\n",
      "\n",
      "m(0) = 11.0  (mod 13)\n"
     ]
    }
   ],
   "source": [
    "resultado = 0\n",
    "for k in range(0,n+1):\n",
    "    r = Y[k]\n",
    "    q = 1\n",
    "    for j in range(0,n+1):\n",
    "        if k != j:\n",
    "            r *= x-X[j]\n",
    "            q *= X[k]-X[j]\n",
    "    resultado += r/q\n",
    "    \n",
    "print(f'm({x}) = {resultado}  (mod {mod})')\n",
    "print()\n",
    "print(f'm({x}) = {resultado%mod}  (mod {mod})')"
   ]
  },
  {
   "cell_type": "code",
   "execution_count": 98,
   "metadata": {},
   "outputs": [
    {
     "data": {
      "text/plain": [
       "2.5"
      ]
     },
     "execution_count": 98,
     "metadata": {},
     "output_type": "execute_result"
    }
   ],
   "source": [
    "15.5%13"
   ]
  },
  {
   "cell_type": "code",
   "execution_count": null,
   "metadata": {},
   "outputs": [],
   "source": []
  },
  {
   "cell_type": "code",
   "execution_count": 99,
   "metadata": {},
   "outputs": [
    {
     "name": "stdout",
     "output_type": "stream",
     "text": [
      "46 = 101 - 1 * 55\n"
     ]
    }
   ],
   "source": [
    "print_bezout_eq(eq)"
   ]
  },
  {
   "cell_type": "code",
   "execution_count": 100,
   "metadata": {},
   "outputs": [
    {
     "name": "stdout",
     "output_type": "stream",
     "text": [
      "46 = 101 - 1 * 55\n",
      "9 = 55 - 1 * 46\n",
      "1 = 46 - 5 * 9\n"
     ]
    }
   ],
   "source": [
    "equations = bezout_equations(101, 55)"
   ]
  },
  {
   "cell_type": "code",
   "execution_count": 101,
   "metadata": {},
   "outputs": [
    {
     "data": {
      "text/plain": [
       "[[46, 101, 1, 55], [9, 55, 1, 46], [1, 46, 5, 9]]"
      ]
     },
     "execution_count": 101,
     "metadata": {},
     "output_type": "execute_result"
    }
   ],
   "source": [
    "equations"
   ]
  },
  {
   "cell_type": "code",
   "execution_count": 102,
   "metadata": {},
   "outputs": [
    {
     "data": {
      "text/plain": [
       "[1, 46, 5, [55, 1, 46]]"
      ]
     },
     "execution_count": 102,
     "metadata": {},
     "output_type": "execute_result"
    }
   ],
   "source": [
    "eqs = equations[:]\n",
    "eq1 = eqs[-1]\n",
    "eq2 = eqs[-2]\n",
    "eq3 = eqs[:][-3]\n",
    "eq1[-1] = eq2[1:]\n",
    "eq1"
   ]
  },
  {
   "cell_type": "code",
   "execution_count": 103,
   "metadata": {},
   "outputs": [
    {
     "data": {
      "text/plain": [
       "[10, 2, 3]"
      ]
     },
     "execution_count": 103,
     "metadata": {},
     "output_type": "execute_result"
    }
   ],
   "source": [
    "lis = [1, 2, 3]\n",
    "lis[0] = 10\n",
    "lis"
   ]
  },
  {
   "cell_type": "code",
   "execution_count": 104,
   "metadata": {},
   "outputs": [
    {
     "name": "stdout",
     "output_type": "stream",
     "text": [
      "mcd(55,101) = mcd(101,55) = mcd(55,46) = mcd(46,9) = mcd(9,1) = mcd(1,0) = 1\n"
     ]
    },
    {
     "data": {
      "text/plain": [
       "True"
      ]
     },
     "execution_count": 104,
     "metadata": {},
     "output_type": "execute_result"
    }
   ],
   "source": [
    "mdc(55, 101) == 1"
   ]
  },
  {
   "cell_type": "code",
   "execution_count": 105,
   "metadata": {},
   "outputs": [
    {
     "data": {
      "text/plain": [
       "90"
      ]
     },
     "execution_count": 105,
     "metadata": {},
     "output_type": "execute_result"
    }
   ],
   "source": [
    "multiplicative_inverse(55, 101)"
   ]
  },
  {
   "cell_type": "code",
   "execution_count": 106,
   "metadata": {},
   "outputs": [
    {
     "name": "stdout",
     "output_type": "stream",
     "text": [
      "[55, 32, 58]\n",
      "[56, 68, 17]\n",
      "[68, 5, 90]\n"
     ]
    }
   ],
   "source": [
    "my_mat = [\n",
    "    [55, 32, 58],\n",
    "    [56, 68, 17],\n",
    "    [68, 5, 90],\n",
    "]\n",
    "\n",
    "print_matrix(my_mat)"
   ]
  },
  {
   "cell_type": "code",
   "execution_count": 107,
   "metadata": {},
   "outputs": [
    {
     "data": {
      "text/plain": [
       "-54"
      ]
     },
     "execution_count": 107,
     "metadata": {},
     "output_type": "execute_result"
    }
   ],
   "source": [
    "9*-6"
   ]
  },
  {
   "cell_type": "code",
   "execution_count": 108,
   "metadata": {},
   "outputs": [
    {
     "data": {
      "text/plain": [
       "2"
      ]
     },
     "execution_count": 108,
     "metadata": {},
     "output_type": "execute_result"
    }
   ],
   "source": [
    "-54%7"
   ]
  },
  {
   "cell_type": "code",
   "execution_count": 109,
   "metadata": {},
   "outputs": [
    {
     "data": {
      "text/plain": [
       "2"
      ]
     },
     "execution_count": 109,
     "metadata": {},
     "output_type": "execute_result"
    }
   ],
   "source": [
    "-54%7"
   ]
  }
 ],
 "metadata": {
  "kernelspec": {
   "display_name": "Python 3",
   "language": "python",
   "name": "python3"
  },
  "language_info": {
   "codemirror_mode": {
    "name": "ipython",
    "version": 3
   },
   "file_extension": ".py",
   "mimetype": "text/x-python",
   "name": "python",
   "nbconvert_exporter": "python",
   "pygments_lexer": "ipython3",
   "version": "3.7.4"
  }
 },
 "nbformat": 4,
 "nbformat_minor": 4
}
