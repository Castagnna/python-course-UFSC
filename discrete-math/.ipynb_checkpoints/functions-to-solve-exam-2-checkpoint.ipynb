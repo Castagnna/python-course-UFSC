{
 "cells": [
  {
   "cell_type": "markdown",
   "metadata": {},
   "source": [
    "# This notebook pretends to help solve problems related with discrete math"
   ]
  },
  {
   "cell_type": "markdown",
   "metadata": {},
   "source": [
    "## 1 - Functions\n",
    "\n",
    "---"
   ]
  },
  {
   "cell_type": "code",
   "execution_count": 1,
   "metadata": {},
   "outputs": [],
   "source": [
    "def print_matrix(matrix):\n",
    "    for row in matrix:\n",
    "        print(row)"
   ]
  },
  {
   "cell_type": "code",
   "execution_count": 2,
   "metadata": {},
   "outputs": [],
   "source": [
    "def mdc(a, b, show=True):\n",
    "    result = f'mcd({a},{b}) = '\n",
    "    while b:\n",
    "        a, b = b, a % b\n",
    "        result += f'mcd({a},{b}) = '\n",
    "    if show:\n",
    "        print(result + str(a))\n",
    "    return a"
   ]
  },
  {
   "cell_type": "code",
   "execution_count": 3,
   "metadata": {},
   "outputs": [],
   "source": [
    "def create_identity_matrix(n):\n",
    "    identity = []\n",
    "    for i in range(n):\n",
    "        row = []\n",
    "        for j in range(n):\n",
    "            if i==j:\n",
    "                row.append(1)\n",
    "            else:\n",
    "                row.append(0)\n",
    "        identity.append(row)\n",
    "        \n",
    "    return identity"
   ]
  },
  {
   "cell_type": "code",
   "execution_count": 4,
   "metadata": {},
   "outputs": [],
   "source": [
    "def extend_matrix(square_matrix):\n",
    "    n = len(square_matrix)\n",
    "    identity = create_identity_matrix(n)\n",
    "    \n",
    "    extended_matrix = [r_sqr + r_id for r_sqr, r_id in zip(square_matrix, identity)]\n",
    "    \n",
    "    return extended_matrix"
   ]
  },
  {
   "cell_type": "code",
   "execution_count": 5,
   "metadata": {},
   "outputs": [],
   "source": [
    "def x_module_y(x, y):\n",
    "    return x%y"
   ]
  },
  {
   "cell_type": "code",
   "execution_count": 6,
   "metadata": {},
   "outputs": [],
   "source": [
    "def bezout_equation(mod, divisor):\n",
    "    quotient, remainder = divmod(mod, divisor)\n",
    "    return [remainder, mod, quotient, divisor]"
   ]
  },
  {
   "cell_type": "code",
   "execution_count": 7,
   "metadata": {},
   "outputs": [],
   "source": [
    "def print_bezout_eq(eq):\n",
    "    print(f'{eq[0]} = {eq[1]} - {eq[2]} * {eq[3]}')"
   ]
  },
  {
   "cell_type": "code",
   "execution_count": 8,
   "metadata": {},
   "outputs": [],
   "source": [
    "def bezout_equations(mod, divisor):\n",
    "    equations = []\n",
    "    remainder = -1\n",
    "    while remainder != 1:\n",
    "        equation = bezout_equation(mod, divisor)\n",
    "        equations.append(equation)\n",
    "        print_bezout_eq(equation)\n",
    "        remainder, mod, quotient, divisor = equation\n",
    "        \n",
    "        mod, divisor = divisor, remainder\n",
    "        \n",
    "    return equations"
   ]
  },
  {
   "cell_type": "code",
   "execution_count": 9,
   "metadata": {},
   "outputs": [],
   "source": [
    "def multiplicative_inverse(num, mod) :\n",
    "    if mdc(num, mod, False) != 1:\n",
    "        print('nao existem inverso, mdc != 1')\n",
    "        return 0\n",
    "    \n",
    "    num = num % mod; \n",
    "    for x in range(1, mod) : \n",
    "        if ((num * x) % mod == 1) : \n",
    "            return x \n",
    "    return 1"
   ]
  },
  {
   "cell_type": "code",
   "execution_count": 10,
   "metadata": {},
   "outputs": [],
   "source": [
    "def print_pot_mod(n, mod, loops):\n",
    "    for i in range(1,loops+1):\n",
    "        if i == 1:\n",
    "            result = n%mod\n",
    "            print(f'{n}^{i} mod{mod} = {result}')\n",
    "        else:\n",
    "            new_result = (result*result)%mod\n",
    "\n",
    "            print(f'{n}^{i} mod{mod} = {result} x {result} mod{mod} = {new_result}')\n",
    "            result = new_result"
   ]
  },
  {
   "cell_type": "code",
   "execution_count": 11,
   "metadata": {},
   "outputs": [],
   "source": [
    "def algoritmo_euclides(maior, menor):\n",
    "    matriz = [\n",
    "        [maior, '-'],\n",
    "    ]\n",
    "    i = 1\n",
    "    while True:\n",
    "        matriz.append([menor])\n",
    "        q, d = divmod(maior, menor)\n",
    "        matriz[i].append(q)\n",
    "        maior = menor\n",
    "        menor = d\n",
    "        i += 1\n",
    "        if d == 0:\n",
    "            break\n",
    "    \n",
    "    matriz[0] += [1, 0]\n",
    "    matriz[1] += [0, 1]\n",
    "    for i in range(2, len(matriz)):\n",
    "        proximo_s = matriz[i-2][2] - matriz[i-1][1] * matriz[i-1][2]\n",
    "        proximo_t = matriz[i-2][3] - matriz[i-1][1] * matriz[i-1][3]\n",
    "        matriz[i] += [proximo_s, proximo_t]\n",
    "    \n",
    "    print(' d , q , s , t ')\n",
    "    for linha in matriz:\n",
    "        print(linha)\n",
    "    \n",
    "    a = matriz[0][0]\n",
    "    b = matriz[1][0]\n",
    "    mdc = matriz[-1][0]\n",
    "    s = matriz[-1][2]\n",
    "    t = matriz[-1][3]\n",
    "    print()\n",
    "    print(f'MDC({a},{b}) = {mdc} = {s}x{a} + {t}x{b}')\n",
    "  \n",
    "    return matriz"
   ]
  },
  {
   "cell_type": "code",
   "execution_count": 12,
   "metadata": {},
   "outputs": [
    {
     "name": "stdout",
     "output_type": "stream",
     "text": [
      "2\n",
      "3\n",
      "5\n",
      "7\n",
      "11\n",
      "13\n"
     ]
    }
   ],
   "source": [
    "# primes generator\n",
    "\n",
    "def nats(n=2):\n",
    "    if n < 2:\n",
    "        n=2\n",
    "    yield n\n",
    "    yield from nats(n+1)\n",
    "    \n",
    "def sieve(s):\n",
    "    n = next(s)\n",
    "    yield n\n",
    "    yield from sieve(i for i in s if i%n != 0)\n",
    "\n",
    "prime = sieve(nats(-1))\n",
    "\n",
    "print(next(prime))\n",
    "\n",
    "for i in range(5):\n",
    "    print(next(prime))"
   ]
  },
  {
   "cell_type": "markdown",
   "metadata": {},
   "source": [
    "## 2 - How to use all this junk\n",
    "\n",
    "* most test cases are from the teacher's list of exercises\n",
    "\n",
    "---"
   ]
  },
  {
   "cell_type": "markdown",
   "metadata": {},
   "source": [
    "### 2.1 - mdc"
   ]
  },
  {
   "cell_type": "code",
   "execution_count": 13,
   "metadata": {
    "scrolled": false
   },
   "outputs": [
    {
     "name": "stdout",
     "output_type": "stream",
     "text": [
      "mcd(55,101) = mcd(101,55) = mcd(55,46) = mcd(46,9) = mcd(9,1) = mcd(1,0) = 1\n"
     ]
    },
    {
     "data": {
      "text/plain": [
       "1"
      ]
     },
     "execution_count": 13,
     "metadata": {},
     "output_type": "execute_result"
    }
   ],
   "source": [
    "mdc(55, 101, True)"
   ]
  },
  {
   "cell_type": "code",
   "execution_count": 14,
   "metadata": {},
   "outputs": [
    {
     "name": "stdout",
     "output_type": "stream",
     "text": [
      "mcd(1211,421) = mcd(421,369) = mcd(369,52) = mcd(52,5) = mcd(5,2) = mcd(2,1) = mcd(1,0) = 1\n"
     ]
    },
    {
     "data": {
      "text/plain": [
       "1"
      ]
     },
     "execution_count": 14,
     "metadata": {},
     "output_type": "execute_result"
    }
   ],
   "source": [
    "mdc(1211, 421, True)"
   ]
  },
  {
   "cell_type": "code",
   "execution_count": 15,
   "metadata": {},
   "outputs": [
    {
     "name": "stdout",
     "output_type": "stream",
     "text": [
      "mcd(39,41) = mcd(41,39) = mcd(39,2) = mcd(2,1) = mcd(1,0) = 1\n"
     ]
    },
    {
     "data": {
      "text/plain": [
       "1"
      ]
     },
     "execution_count": 15,
     "metadata": {},
     "output_type": "execute_result"
    }
   ],
   "source": [
    "mdc(39, 41, True)"
   ]
  },
  {
   "cell_type": "code",
   "execution_count": 16,
   "metadata": {},
   "outputs": [
    {
     "name": "stdout",
     "output_type": "stream",
     "text": [
      "mcd(-48,36) = mcd(36,24) = mcd(24,12) = mcd(12,0) = 12\n"
     ]
    },
    {
     "data": {
      "text/plain": [
       "12"
      ]
     },
     "execution_count": 16,
     "metadata": {},
     "output_type": "execute_result"
    }
   ],
   "source": [
    "mdc(-48, 36, True)"
   ]
  },
  {
   "cell_type": "code",
   "execution_count": 17,
   "metadata": {},
   "outputs": [
    {
     "name": "stdout",
     "output_type": "stream",
     "text": [
      "mcd(61698,-5187) = mcd(-5187,-546) = mcd(-546,-273) = mcd(-273,0) = -273\n"
     ]
    },
    {
     "data": {
      "text/plain": [
       "-273"
      ]
     },
     "execution_count": 17,
     "metadata": {},
     "output_type": "execute_result"
    }
   ],
   "source": [
    "mdc(61698, -5187, True)"
   ]
  },
  {
   "cell_type": "code",
   "execution_count": 18,
   "metadata": {},
   "outputs": [
    {
     "name": "stdout",
     "output_type": "stream",
     "text": [
      "mcd(-5187,61698) = mcd(61698,56511) = mcd(56511,5187) = mcd(5187,4641) = mcd(4641,546) = mcd(546,273) = mcd(273,0) = 273\n"
     ]
    },
    {
     "data": {
      "text/plain": [
       "273"
      ]
     },
     "execution_count": 18,
     "metadata": {},
     "output_type": "execute_result"
    }
   ],
   "source": [
    "mdc(-5187, 61698,  True)"
   ]
  },
  {
   "cell_type": "code",
   "execution_count": 19,
   "metadata": {},
   "outputs": [
    {
     "name": "stdout",
     "output_type": "stream",
     "text": [
      "mcd(223468,466948) = mcd(466948,223468) = mcd(223468,20012) = mcd(20012,3336) = mcd(3336,3332) = mcd(3332,4) = mcd(4,0) = 4\n"
     ]
    },
    {
     "data": {
      "text/plain": [
       "4"
      ]
     },
     "execution_count": 19,
     "metadata": {},
     "output_type": "execute_result"
    }
   ],
   "source": [
    "mdc(223468, 466948,  True)"
   ]
  },
  {
   "cell_type": "code",
   "execution_count": 20,
   "metadata": {},
   "outputs": [
    {
     "name": "stdout",
     "output_type": "stream",
     "text": [
      "mcd(9565381388455777,431437) = mcd(431437,270113) = mcd(270113,161324) = mcd(161324,108789) = mcd(108789,52535) = mcd(52535,3719) = mcd(3719,469) = mcd(469,436) = mcd(436,33) = mcd(33,7) = mcd(7,5) = mcd(5,2) = mcd(2,1) = mcd(1,0) = 1\n"
     ]
    },
    {
     "data": {
      "text/plain": [
       "1"
      ]
     },
     "execution_count": 20,
     "metadata": {},
     "output_type": "execute_result"
    }
   ],
   "source": [
    "mdc(9565381388455777, 431437)"
   ]
  },
  {
   "cell_type": "code",
   "execution_count": 21,
   "metadata": {},
   "outputs": [
    {
     "name": "stdout",
     "output_type": "stream",
     "text": [
      "mcd(4021,2014) = mcd(2014,2007) = mcd(2007,7) = mcd(7,5) = mcd(5,2) = mcd(2,1) = mcd(1,0) = 1\n"
     ]
    },
    {
     "data": {
      "text/plain": [
       "1"
      ]
     },
     "execution_count": 21,
     "metadata": {},
     "output_type": "execute_result"
    }
   ],
   "source": [
    "mdc(4021,2014)"
   ]
  },
  {
   "cell_type": "markdown",
   "metadata": {},
   "source": [
    "### 2.2 - simple module"
   ]
  },
  {
   "cell_type": "code",
   "execution_count": 22,
   "metadata": {},
   "outputs": [
    {
     "data": {
      "text/plain": [
       "19"
      ]
     },
     "execution_count": 22,
     "metadata": {},
     "output_type": "execute_result"
    }
   ],
   "source": [
    "x_module_y(-43, 31)"
   ]
  },
  {
   "cell_type": "code",
   "execution_count": 23,
   "metadata": {},
   "outputs": [
    {
     "data": {
      "text/plain": [
       "21"
      ]
     },
     "execution_count": 23,
     "metadata": {},
     "output_type": "execute_result"
    }
   ],
   "source": [
    "# 186+153mod132\n",
    "x_module_y(153, 132)"
   ]
  },
  {
   "cell_type": "code",
   "execution_count": 24,
   "metadata": {},
   "outputs": [
    {
     "data": {
      "text/plain": [
       "54"
      ]
     },
     "execution_count": 24,
     "metadata": {},
     "output_type": "execute_result"
    }
   ],
   "source": [
    "x_module_y(186, 132)"
   ]
  },
  {
   "cell_type": "code",
   "execution_count": 25,
   "metadata": {},
   "outputs": [
    {
     "data": {
      "text/plain": [
       "75"
      ]
     },
     "execution_count": 25,
     "metadata": {},
     "output_type": "execute_result"
    }
   ],
   "source": [
    "x_module_y(186+153, 132)"
   ]
  },
  {
   "cell_type": "code",
   "execution_count": 26,
   "metadata": {},
   "outputs": [
    {
     "data": {
      "text/plain": [
       "7"
      ]
     },
     "execution_count": 26,
     "metadata": {},
     "output_type": "execute_result"
    }
   ],
   "source": [
    "# 166−159mod162\n",
    "x_module_y(166-159, 162)"
   ]
  },
  {
   "cell_type": "code",
   "execution_count": 27,
   "metadata": {},
   "outputs": [
    {
     "data": {
      "text/plain": [
       "50"
      ]
     },
     "execution_count": 27,
     "metadata": {},
     "output_type": "execute_result"
    }
   ],
   "source": [
    "# 124×182mod138\n",
    "x_module_y(124*182, 162)"
   ]
  },
  {
   "cell_type": "code",
   "execution_count": 28,
   "metadata": {},
   "outputs": [
    {
     "data": {
      "text/plain": [
       "2480"
      ]
     },
     "execution_count": 28,
     "metadata": {},
     "output_type": "execute_result"
    }
   ],
   "source": [
    "x_module_y(124, 162) * x_module_y(182, 162)"
   ]
  },
  {
   "cell_type": "code",
   "execution_count": 29,
   "metadata": {},
   "outputs": [
    {
     "data": {
      "text/plain": [
       "50"
      ]
     },
     "execution_count": 29,
     "metadata": {},
     "output_type": "execute_result"
    }
   ],
   "source": [
    "x_module_y(2480, 162)"
   ]
  },
  {
   "cell_type": "code",
   "execution_count": 30,
   "metadata": {},
   "outputs": [
    {
     "data": {
      "text/plain": [
       "200"
      ]
     },
     "execution_count": 30,
     "metadata": {},
     "output_type": "execute_result"
    }
   ],
   "source": [
    "# 3^254 mod (257) = 200\n",
    "x_module_y(3**254, 257)\n"
   ]
  },
  {
   "cell_type": "code",
   "execution_count": 31,
   "metadata": {},
   "outputs": [
    {
     "data": {
      "text/plain": [
       "7"
      ]
     },
     "execution_count": 31,
     "metadata": {},
     "output_type": "execute_result"
    }
   ],
   "source": [
    "a = 15*18-10*17\n",
    "a%31"
   ]
  },
  {
   "cell_type": "code",
   "execution_count": 32,
   "metadata": {},
   "outputs": [
    {
     "data": {
      "text/plain": [
       "0"
      ]
     },
     "execution_count": 32,
     "metadata": {},
     "output_type": "execute_result"
    }
   ],
   "source": [
    "0%31"
   ]
  },
  {
   "cell_type": "code",
   "execution_count": 33,
   "metadata": {},
   "outputs": [
    {
     "data": {
      "text/plain": [
       "16"
      ]
     },
     "execution_count": 33,
     "metadata": {},
     "output_type": "execute_result"
    }
   ],
   "source": [
    "multiplicative_inverse(2, 31)"
   ]
  },
  {
   "cell_type": "code",
   "execution_count": 34,
   "metadata": {},
   "outputs": [
    {
     "data": {
      "text/plain": [
       "26"
      ]
     },
     "execution_count": 34,
     "metadata": {},
     "output_type": "execute_result"
    }
   ],
   "source": [
    "x_module_y(21*16, 31)"
   ]
  },
  {
   "cell_type": "code",
   "execution_count": 35,
   "metadata": {},
   "outputs": [
    {
     "data": {
      "text/plain": [
       "0"
      ]
     },
     "execution_count": 35,
     "metadata": {},
     "output_type": "execute_result"
    }
   ],
   "source": [
    "x_module_y(2*26-3*7, 31)"
   ]
  },
  {
   "cell_type": "code",
   "execution_count": 36,
   "metadata": {},
   "outputs": [
    {
     "data": {
      "text/plain": [
       "1596"
      ]
     },
     "execution_count": 36,
     "metadata": {},
     "output_type": "execute_result"
    }
   ],
   "source": [
    "(35+79)*14"
   ]
  },
  {
   "cell_type": "code",
   "execution_count": 37,
   "metadata": {},
   "outputs": [
    {
     "data": {
      "text/plain": [
       "10"
      ]
     },
     "execution_count": 37,
     "metadata": {},
     "output_type": "execute_result"
    }
   ],
   "source": [
    "x_module_y(1596, 13)"
   ]
  },
  {
   "cell_type": "code",
   "execution_count": 38,
   "metadata": {},
   "outputs": [
    {
     "data": {
      "text/plain": [
       "-216000"
      ]
     },
     "execution_count": 38,
     "metadata": {},
     "output_type": "execute_result"
    }
   ],
   "source": [
    "(3-9*7)**3"
   ]
  },
  {
   "cell_type": "code",
   "execution_count": 39,
   "metadata": {},
   "outputs": [
    {
     "data": {
      "text/plain": [
       "8"
      ]
     },
     "execution_count": 39,
     "metadata": {},
     "output_type": "execute_result"
    }
   ],
   "source": [
    "multiplicative_inverse(216000, 13)"
   ]
  },
  {
   "cell_type": "code",
   "execution_count": 40,
   "metadata": {},
   "outputs": [
    {
     "data": {
      "text/plain": [
       "5"
      ]
     },
     "execution_count": 40,
     "metadata": {},
     "output_type": "execute_result"
    }
   ],
   "source": [
    "x_module_y(-8, 13)"
   ]
  },
  {
   "cell_type": "code",
   "execution_count": 41,
   "metadata": {},
   "outputs": [
    {
     "data": {
      "text/plain": [
       "11"
      ]
     },
     "execution_count": 41,
     "metadata": {},
     "output_type": "execute_result"
    }
   ],
   "source": [
    "x_module_y(50, 13)"
   ]
  },
  {
   "cell_type": "code",
   "execution_count": 42,
   "metadata": {},
   "outputs": [
    {
     "data": {
      "text/plain": [
       "([1, 2, 4, 8, 16, 32, 64, 128, 256], 511)"
      ]
     },
     "execution_count": 42,
     "metadata": {},
     "output_type": "execute_result"
    }
   ],
   "source": [
    "n = 258\n",
    "pot_2 = 1\n",
    "parcelas = []\n",
    "while pot_2 < n:\n",
    "    parcelas.append(pot_2)\n",
    "    pot_2 *= 2\n",
    "parcelas, sum(parcelas)"
   ]
  },
  {
   "cell_type": "code",
   "execution_count": 43,
   "metadata": {},
   "outputs": [
    {
     "name": "stdout",
     "output_type": "stream",
     "text": [
      "3^1 mod257 = 3\n",
      "3^2 mod257 = 3 x 3 mod257 = 9\n",
      "3^3 mod257 = 9 x 9 mod257 = 81\n",
      "3^4 mod257 = 81 x 81 mod257 = 136\n",
      "3^5 mod257 = 136 x 136 mod257 = 249\n",
      "3^6 mod257 = 249 x 249 mod257 = 64\n",
      "3^7 mod257 = 64 x 64 mod257 = 241\n",
      "3^8 mod257 = 241 x 241 mod257 = 256\n"
     ]
    }
   ],
   "source": [
    "print_pot_mod(3, 257, 8)"
   ]
  },
  {
   "cell_type": "code",
   "execution_count": null,
   "metadata": {},
   "outputs": [],
   "source": []
  },
  {
   "cell_type": "code",
   "execution_count": 44,
   "metadata": {},
   "outputs": [
    {
     "name": "stdout",
     "output_type": "stream",
     "text": [
      "CPU times: user 619 µs, sys: 64 µs, total: 683 µs\n",
      "Wall time: 705 µs\n"
     ]
    },
    {
     "data": {
      "text/plain": [
       "121"
      ]
     },
     "execution_count": 44,
     "metadata": {},
     "output_type": "execute_result"
    }
   ],
   "source": [
    "%%time\n",
    "# 14^20539(mod181)\n",
    "x_module_y(14**20539, 181)"
   ]
  },
  {
   "cell_type": "code",
   "execution_count": 45,
   "metadata": {},
   "outputs": [
    {
     "data": {
      "text/plain": [
       "14"
      ]
     },
     "execution_count": 45,
     "metadata": {},
     "output_type": "execute_result"
    }
   ],
   "source": [
    "n = 14\n",
    "mod = 181\n",
    "(n**1)%mod"
   ]
  },
  {
   "cell_type": "code",
   "execution_count": 46,
   "metadata": {},
   "outputs": [
    {
     "data": {
      "text/plain": [
       "15"
      ]
     },
     "execution_count": 46,
     "metadata": {},
     "output_type": "execute_result"
    }
   ],
   "source": [
    "(14*14)%181"
   ]
  },
  {
   "cell_type": "code",
   "execution_count": 47,
   "metadata": {},
   "outputs": [
    {
     "data": {
      "text/plain": [
       "44"
      ]
     },
     "execution_count": 47,
     "metadata": {},
     "output_type": "execute_result"
    }
   ],
   "source": [
    "a=15\n",
    "(a*a)%181"
   ]
  },
  {
   "cell_type": "code",
   "execution_count": 48,
   "metadata": {},
   "outputs": [
    {
     "data": {
      "text/plain": [
       "126"
      ]
     },
     "execution_count": 48,
     "metadata": {},
     "output_type": "execute_result"
    }
   ],
   "source": [
    "a=44\n",
    "(a*a)%181"
   ]
  },
  {
   "cell_type": "code",
   "execution_count": 49,
   "metadata": {},
   "outputs": [
    {
     "name": "stdout",
     "output_type": "stream",
     "text": [
      "mcd(2014,4021) = mcd(4021,2014) = mcd(2014,2007) = mcd(2007,7) = mcd(7,5) = mcd(5,2) = mcd(2,1) = mcd(1,0) = 1\n"
     ]
    },
    {
     "data": {
      "text/plain": [
       "1"
      ]
     },
     "execution_count": 49,
     "metadata": {},
     "output_type": "execute_result"
    }
   ],
   "source": [
    "mdc(2014, 4021)"
   ]
  },
  {
   "cell_type": "markdown",
   "metadata": {},
   "source": [
    "### 2.3 - bezout_equation"
   ]
  },
  {
   "cell_type": "code",
   "execution_count": 50,
   "metadata": {},
   "outputs": [
    {
     "name": "stdout",
     "output_type": "stream",
     "text": [
      "46 = 101 - 1 * 55\n"
     ]
    }
   ],
   "source": [
    "eq = bezout_equation(101, 55)\n",
    "print_bezout_eq(eq)"
   ]
  },
  {
   "cell_type": "markdown",
   "metadata": {},
   "source": [
    "### 2.4 - Multiplicative inverses"
   ]
  },
  {
   "cell_type": "markdown",
   "metadata": {},
   "source": [
    "#### a)"
   ]
  },
  {
   "cell_type": "code",
   "execution_count": 51,
   "metadata": {},
   "outputs": [
    {
     "name": "stdout",
     "output_type": "stream",
     "text": [
      "2 = 37 - 7 * 5\n",
      "1 = 5 - 2 * 2\n"
     ]
    }
   ],
   "source": [
    "equations = bezout_equations(mod=37, divisor=5)"
   ]
  },
  {
   "cell_type": "code",
   "execution_count": 52,
   "metadata": {},
   "outputs": [
    {
     "data": {
      "text/plain": [
       "15"
      ]
     },
     "execution_count": 52,
     "metadata": {},
     "output_type": "execute_result"
    }
   ],
   "source": [
    "multiplicative_inverse(mod=37, num=5)"
   ]
  },
  {
   "cell_type": "markdown",
   "metadata": {},
   "source": [
    "#### b)"
   ]
  },
  {
   "cell_type": "code",
   "execution_count": 53,
   "metadata": {},
   "outputs": [
    {
     "name": "stdout",
     "output_type": "stream",
     "text": [
      "nao existem inverso, mdc != 1\n"
     ]
    },
    {
     "data": {
      "text/plain": [
       "0"
      ]
     },
     "execution_count": 53,
     "metadata": {},
     "output_type": "execute_result"
    }
   ],
   "source": [
    "multiplicative_inverse(mod=77, num=7)"
   ]
  },
  {
   "cell_type": "markdown",
   "metadata": {},
   "source": [
    "#### c)"
   ]
  },
  {
   "cell_type": "code",
   "execution_count": 54,
   "metadata": {},
   "outputs": [
    {
     "name": "stdout",
     "output_type": "stream",
     "text": [
      "25 = 1117 - 12 * 91\n",
      "16 = 91 - 3 * 25\n",
      "9 = 25 - 1 * 16\n",
      "7 = 16 - 1 * 9\n",
      "2 = 9 - 1 * 7\n",
      "1 = 7 - 3 * 2\n"
     ]
    }
   ],
   "source": [
    "equations = bezout_equations(mod=1117, divisor=91)"
   ]
  },
  {
   "cell_type": "code",
   "execution_count": 55,
   "metadata": {},
   "outputs": [
    {
     "data": {
      "text/plain": [
       "491"
      ]
     },
     "execution_count": 55,
     "metadata": {},
     "output_type": "execute_result"
    }
   ],
   "source": [
    "multiplicative_inverse(mod=1117, num=91)"
   ]
  },
  {
   "cell_type": "markdown",
   "metadata": {},
   "source": [
    "#### d)"
   ]
  },
  {
   "cell_type": "code",
   "execution_count": 56,
   "metadata": {},
   "outputs": [
    {
     "name": "stdout",
     "output_type": "stream",
     "text": [
      "199373 = 199373 - 0 * 200455571\n",
      "85706 = 200455571 - 1005 * 199373\n",
      "27961 = 199373 - 2 * 85706\n",
      "1823 = 85706 - 3 * 27961\n",
      "616 = 27961 - 15 * 1823\n",
      "591 = 1823 - 2 * 616\n",
      "25 = 616 - 1 * 591\n",
      "16 = 591 - 23 * 25\n",
      "9 = 25 - 1 * 16\n",
      "7 = 16 - 1 * 9\n",
      "2 = 9 - 1 * 7\n",
      "1 = 7 - 3 * 2\n"
     ]
    }
   ],
   "source": [
    "equations = bezout_equations(mod=199373, divisor=200455571)"
   ]
  },
  {
   "cell_type": "code",
   "execution_count": 57,
   "metadata": {},
   "outputs": [
    {
     "data": {
      "text/plain": [
       "87711"
      ]
     },
     "execution_count": 57,
     "metadata": {},
     "output_type": "execute_result"
    }
   ],
   "source": [
    "multiplicative_inverse(mod=199373, num=200455571)"
   ]
  },
  {
   "cell_type": "code",
   "execution_count": 58,
   "metadata": {},
   "outputs": [
    {
     "data": {
      "text/plain": [
       "95"
      ]
     },
     "execution_count": 58,
     "metadata": {},
     "output_type": "execute_result"
    }
   ],
   "source": [
    "multiplicative_inverse(mod=179, num=49)"
   ]
  },
  {
   "cell_type": "code",
   "execution_count": 59,
   "metadata": {},
   "outputs": [
    {
     "data": {
      "text/plain": [
       "44"
      ]
     },
     "execution_count": 59,
     "metadata": {},
     "output_type": "execute_result"
    }
   ],
   "source": [
    "x_module_y(182,138)"
   ]
  },
  {
   "cell_type": "code",
   "execution_count": 60,
   "metadata": {},
   "outputs": [
    {
     "data": {
      "text/plain": [
       "74"
      ]
     },
     "execution_count": 60,
     "metadata": {},
     "output_type": "execute_result"
    }
   ],
   "source": [
    "x_module_y(44*124,138)"
   ]
  },
  {
   "cell_type": "code",
   "execution_count": 61,
   "metadata": {},
   "outputs": [
    {
     "data": {
      "text/plain": [
       "74"
      ]
     },
     "execution_count": 61,
     "metadata": {},
     "output_type": "execute_result"
    }
   ],
   "source": [
    "x_module_y(124*182,138)"
   ]
  },
  {
   "cell_type": "code",
   "execution_count": 62,
   "metadata": {},
   "outputs": [
    {
     "data": {
      "text/plain": [
       "4"
      ]
     },
     "execution_count": 62,
     "metadata": {},
     "output_type": "execute_result"
    }
   ],
   "source": [
    "1088//232"
   ]
  },
  {
   "cell_type": "code",
   "execution_count": 63,
   "metadata": {},
   "outputs": [
    {
     "name": "stdout",
     "output_type": "stream",
     "text": [
      " d , q , s , t \n",
      "[1088, '-', 1, 0]\n",
      "[232, 4, 0, 1]\n",
      "[160, 1, 1, -4]\n",
      "[72, 2, -1, 5]\n",
      "[16, 4, 3, -14]\n",
      "[8, 2, -13, 61]\n",
      "\n",
      "MDC(1088,232) = 8 = -13x1088 + 61x232\n"
     ]
    }
   ],
   "source": [
    "matriz = algoritmo_euclides(maior = 1088, menor = 232)"
   ]
  },
  {
   "cell_type": "code",
   "execution_count": 64,
   "metadata": {},
   "outputs": [
    {
     "name": "stdout",
     "output_type": "stream",
     "text": [
      " d , q , s , t \n",
      "[4021, '-', 1, 0]\n",
      "[2014, 1, 0, 1]\n",
      "[2007, 1, 1, -1]\n",
      "[7, 286, -1, 2]\n",
      "[5, 1, 287, -573]\n",
      "[2, 2, -288, 575]\n",
      "[1, 2, 863, -1723]\n",
      "\n",
      "MDC(4021,2014) = 1 = 863x4021 + -1723x2014\n"
     ]
    }
   ],
   "source": [
    "matriz = algoritmo_euclides(maior = 4021, menor = 2014)"
   ]
  },
  {
   "cell_type": "code",
   "execution_count": 65,
   "metadata": {},
   "outputs": [
    {
     "data": {
      "text/plain": [
       "1"
      ]
     },
     "execution_count": 65,
     "metadata": {},
     "output_type": "execute_result"
    }
   ],
   "source": [
    "-1723*2014 + 863*4021"
   ]
  },
  {
   "cell_type": "code",
   "execution_count": 66,
   "metadata": {},
   "outputs": [
    {
     "name": "stdout",
     "output_type": "stream",
     "text": [
      "[4021, '-', 1, 0, 1, 0]\n",
      "[2014, 1, 0, 1, 0, 1]\n",
      "[2007, 1, 1, -1, 1, -1]\n",
      "[7, 286, -1, 2, -1, 2]\n",
      "[5, 1, 287, -573, 287, -573]\n",
      "[2, 2, -288, 575, -288, 575]\n",
      "[1, 2, 863, -1723, 863, -1723]\n"
     ]
    }
   ],
   "source": [
    "matriz[0] += [1, 0]\n",
    "matriz[1] += [0, 1]\n",
    "for i in range(2, len(matriz)):\n",
    "    proximo_s = matriz[i-2][2] - matriz[i-1][1] * matriz[i-1][2]\n",
    "    proximo_t = matriz[i-2][3] - matriz[i-1][1] * matriz[i-1][3]\n",
    "    matriz[i] += [proximo_s, proximo_t]\n",
    "\n",
    "for linha in matriz:\n",
    "    print(linha)"
   ]
  },
  {
   "cell_type": "markdown",
   "metadata": {},
   "source": [
    "#### T1-Q7"
   ]
  },
  {
   "cell_type": "code",
   "execution_count": 67,
   "metadata": {},
   "outputs": [
    {
     "data": {
      "text/plain": [
       "9"
      ]
     },
     "execution_count": 67,
     "metadata": {},
     "output_type": "execute_result"
    }
   ],
   "source": [
    "multiplicative_inverse(mod=11, num=5)"
   ]
  },
  {
   "cell_type": "code",
   "execution_count": 68,
   "metadata": {},
   "outputs": [
    {
     "data": {
      "text/plain": [
       "8"
      ]
     },
     "execution_count": 68,
     "metadata": {},
     "output_type": "execute_result"
    }
   ],
   "source": [
    "x_module_y(7*9,11)"
   ]
  },
  {
   "cell_type": "markdown",
   "metadata": {},
   "source": [
    "#### T1-Q9"
   ]
  },
  {
   "cell_type": "code",
   "execution_count": 69,
   "metadata": {},
   "outputs": [
    {
     "data": {
      "text/plain": [
       "190"
      ]
     },
     "execution_count": 69,
     "metadata": {},
     "output_type": "execute_result"
    }
   ],
   "source": [
    "multiplicative_inverse(mod=4253, num=291)"
   ]
  },
  {
   "cell_type": "code",
   "execution_count": 70,
   "metadata": {},
   "outputs": [
    {
     "data": {
      "text/plain": [
       "1"
      ]
     },
     "execution_count": 70,
     "metadata": {},
     "output_type": "execute_result"
    }
   ],
   "source": [
    "x_module_y(190*291, 4253)"
   ]
  },
  {
   "cell_type": "markdown",
   "metadata": {},
   "source": [
    "## T1Q3"
   ]
  },
  {
   "cell_type": "code",
   "execution_count": 71,
   "metadata": {},
   "outputs": [
    {
     "name": "stdout",
     "output_type": "stream",
     "text": [
      "[0, 3, 0, 6, 4, 0, 6, 1, 5, 2]\n",
      "[10, 9, 8, 7, 6, 5, 4, 3, 2, 1]\n",
      "132\n",
      "2\n"
     ]
    }
   ],
   "source": [
    "### a) \n",
    "\n",
    "str_num = '0306406152'\n",
    "numeros = [int(char) for char in str_num]\n",
    "pesos = [n for n in range(10, 10 - len(numeros), -1)]\n",
    "soma = sum([num*peso for num, peso in zip(numeros, pesos)])\n",
    "\n",
    "print(numeros)\n",
    "print(pesos)\n",
    "print(soma)\n",
    "print(soma%13)\n",
    "\n",
    "# como 2 é o ultimo digito então r: Verdadeiro"
   ]
  },
  {
   "cell_type": "code",
   "execution_count": 72,
   "metadata": {},
   "outputs": [
    {
     "name": "stdout",
     "output_type": "stream",
     "text": [
      "[1, 7, 2, 4, 8, 0, 5, 6]\n",
      "[10, 9, 8, 7, 6, 5, 4, 3]\n",
      "203\n"
     ]
    }
   ],
   "source": [
    "### b)\n",
    "\n",
    "str_num = '17248056' # +YX\n",
    "numeros = [int(char) for char in str_num]\n",
    "pesos = [n for n in range(10, 10 - len(numeros), -1)]\n",
    "soma = sum([num*peso for num, peso in zip(numeros, pesos)])\n",
    "\n",
    "print(numeros)\n",
    "print(pesos)\n",
    "print(soma)"
   ]
  },
  {
   "cell_type": "code",
   "execution_count": 73,
   "metadata": {},
   "outputs": [
    {
     "data": {
      "text/plain": [
       "5"
      ]
     },
     "execution_count": 73,
     "metadata": {},
     "output_type": "execute_result"
    }
   ],
   "source": [
    "# Então temos que resolver a seuinte equação\n",
    "# 203 +2Y +10 = 10 (mod13)\n",
    "# 213 +2Y = 10 (mod13)\n",
    "(203+10)%13"
   ]
  },
  {
   "cell_type": "code",
   "execution_count": 74,
   "metadata": {},
   "outputs": [
    {
     "data": {
      "text/plain": [
       "7"
      ]
     },
     "execution_count": 74,
     "metadata": {},
     "output_type": "execute_result"
    }
   ],
   "source": [
    "# 5 +2Y = 10 (mod13)\n",
    "# 2Y = 5 (mod13)\n",
    "# Y = 5*1/2 (mod13)\n",
    "multiplicative_inverse(2, 13)"
   ]
  },
  {
   "cell_type": "code",
   "execution_count": 75,
   "metadata": {},
   "outputs": [
    {
     "data": {
      "text/plain": [
       "9"
      ]
     },
     "execution_count": 75,
     "metadata": {},
     "output_type": "execute_result"
    }
   ],
   "source": [
    "# Y = 5*7 (mod13)\n",
    "(5*7)%13"
   ]
  },
  {
   "cell_type": "code",
   "execution_count": 76,
   "metadata": {},
   "outputs": [
    {
     "data": {
      "text/plain": [
       "10"
      ]
     },
     "execution_count": 76,
     "metadata": {},
     "output_type": "execute_result"
    }
   ],
   "source": [
    "(203+2*9+10)%13"
   ]
  },
  {
   "cell_type": "markdown",
   "metadata": {},
   "source": [
    "## 3 - Inversor de matriz!!"
   ]
  },
  {
   "cell_type": "code",
   "execution_count": 122,
   "metadata": {},
   "outputs": [],
   "source": [
    "def aplica_modulo_na_matriz(matriz, mod):\n",
    "    matriz_mod = matriz[:]\n",
    "    for linha in range(len(matriz)):\n",
    "        for coluna in range(len(matriz[0])):\n",
    "            matriz_mod[linha][coluna] = matriz[linha][coluna]%mod\n",
    "    return matriz_mod"
   ]
  },
  {
   "cell_type": "code",
   "execution_count": 159,
   "metadata": {},
   "outputs": [],
   "source": [
    "def inverte_matriz(matriz, mod=1):\n",
    "    dimensao = len(matriz)\n",
    "    \n",
    "    print('Matriz extendida')\n",
    "    matriz_extendida = extend_matrix(my_matrix)   \n",
    "    print_matrix(matriz_extendida)\n",
    "    \n",
    "    print(f'Aplicando modulo {mod}:') \n",
    "    matriz_inversa = aplica_modulo_na_matriz(matriz_extendida, mod)\n",
    "    print_matrix(matriz_inversa)\n",
    "    \n",
    "    for linha in range(dimensao):\n",
    "        pivo = matriz_inversa[linha][linha]\n",
    "        inverso_mul = multiplicative_inverse(pivo, mod)\n",
    "        print(f'inverso muliplicativo de {pivo} = {inverso_mul}')\n",
    "\n",
    "        print(f'L{linha+1} << {inverso_mul}*L{linha+1}')\n",
    "        matriz_inversa[linha] = [a*inverso_mul for a in matriz_inversa[linha]]\n",
    "        print_matrix(matriz_inversa)\n",
    "\n",
    "        print(f'Aplicando modulo {mod}:') \n",
    "        matriz_inversa = aplica_modulo_na_matriz(matriz_inversa, mod)\n",
    "        print_matrix(matriz_inversa)\n",
    "\n",
    "        print(f'Zerando coluna {coluna+1}')\n",
    "        for outra_linha in range(dimensao):\n",
    "            if outra_linha != linha:\n",
    "                cte = matriz_inversa[outra_linha][linha]\n",
    "                print(f'L{outra_linha+1} << L{outra_linha+1} + ({-cte})*L{linha+1}')\n",
    "                matriz_inversa[outra_linha] = [a - b*cte for a, b in zip(matriz_inversa[outra_linha], matriz_inversa[linha])]\n",
    "\n",
    "    print_matrix(matriz_inversa)\n",
    "\n",
    "    print(f'Aplicando modulo {mod}:') \n",
    "    matriz_inversa = aplica_modulo_na_matriz(matriz_inversa, mod)\n",
    "    print_matrix(matriz_inversa)"
   ]
  },
  {
   "cell_type": "code",
   "execution_count": 160,
   "metadata": {},
   "outputs": [],
   "source": [
    "my_matrix = [\n",
    "    [383351211, 171631, 231651],\n",
    "    [9876543,  211158,  221611],\n",
    "    [270, -399, 191],\n",
    "]\n",
    "\n",
    "mod = 101\n",
    "\n",
    "dimensao = len(my_matrix)"
   ]
  },
  {
   "cell_type": "code",
   "execution_count": 161,
   "metadata": {},
   "outputs": [
    {
     "name": "stdout",
     "output_type": "stream",
     "text": [
      "Matriz extendida\n",
      "[383351211, 171631, 231651, 1, 0, 0]\n",
      "[9876543, 211158, 221611, 0, 1, 0]\n",
      "[270, -399, 191, 0, 0, 1]\n",
      "Aplicando modulo 101:\n",
      "[55, 32, 58, 1, 0, 0]\n",
      "[56, 68, 17, 0, 1, 0]\n",
      "[68, 5, 90, 0, 0, 1]\n",
      "inverso muliplicativo de 55 = 90\n",
      "L1 << 90*L1\n",
      "[4950, 2880, 5220, 90, 0, 0]\n",
      "[56, 68, 17, 0, 1, 0]\n",
      "[68, 5, 90, 0, 0, 1]\n",
      "Aplicando modulo 101:\n",
      "[1, 52, 69, 90, 0, 0]\n",
      "[56, 68, 17, 0, 1, 0]\n",
      "[68, 5, 90, 0, 0, 1]\n",
      "Zerando coluna 1\n",
      "L2 << L2 + (-56)*L1\n",
      "L3 << L3 + (-68)*L1\n",
      "inverso muliplicativo de -2844 = 82\n",
      "L2 << 82*L2\n",
      "[1, 52, 69, 90, 0, 0]\n",
      "[0, -233208, -315454, -413280, 82, 0]\n",
      "[0, -3531, -4602, -6120, 0, 1]\n",
      "Aplicando modulo 101:\n",
      "[1, 52, 69, 90, 0, 0]\n",
      "[0, 1, 70, 12, 82, 0]\n",
      "[0, 4, 44, 41, 0, 1]\n",
      "Zerando coluna 1\n",
      "L1 << L1 + (-52)*L2\n",
      "L3 << L3 + (-4)*L2\n",
      "inverso muliplicativo de -236 = 98\n",
      "L3 << 98*L3\n",
      "[1, 0, -3571, -534, -4264, 0]\n",
      "[0, 1, 70, 12, 82, 0]\n",
      "[0, 0, -23128, -686, -32144, 98]\n",
      "Aplicando modulo 101:\n",
      "[1, 0, 65, 72, 79, 0]\n",
      "[0, 1, 70, 12, 82, 0]\n",
      "[0, 0, 1, 21, 75, 98]\n",
      "Zerando coluna 1\n",
      "L1 << L1 + (-65)*L3\n",
      "L2 << L2 + (-70)*L3\n",
      "[1, 0, 0, -1293, -4796, -6370]\n",
      "[0, 1, 0, -1458, -5168, -6860]\n",
      "[0, 0, 1, 21, 75, 98]\n",
      "Aplicando modulo 101:\n",
      "[1, 0, 0, 20, 52, 94]\n",
      "[0, 1, 0, 57, 84, 8]\n",
      "[0, 0, 1, 21, 75, 98]\n"
     ]
    }
   ],
   "source": [
    "inverte_matriz(matriz=my_matrix, mod=mod)"
   ]
  },
  {
   "cell_type": "code",
   "execution_count": 120,
   "metadata": {},
   "outputs": [],
   "source": [
    "matriz_extendida = extend_matrix(my_matrix)"
   ]
  },
  {
   "cell_type": "code",
   "execution_count": 121,
   "metadata": {},
   "outputs": [
    {
     "name": "stdout",
     "output_type": "stream",
     "text": [
      "[383351211, 171631, 231651, 1, 0, 0]\n",
      "[9876543, 211158, 221611, 0, 1, 0]\n",
      "[270, -399, 191, 0, 0, 1]\n"
     ]
    }
   ],
   "source": [
    "print_matrix(matriz_extendida)"
   ]
  },
  {
   "cell_type": "code",
   "execution_count": 126,
   "metadata": {},
   "outputs": [
    {
     "name": "stdout",
     "output_type": "stream",
     "text": [
      "[55, 32, 58, 1, 0, 0]\n",
      "[56, 68, 17, 0, 1, 0]\n",
      "[68, 5, 90, 0, 0, 1]\n"
     ]
    }
   ],
   "source": [
    "matriz_inversa1 = aplica_modulo_na_matriz(matriz_extendida, mod)\n",
    "print_matrix(matriz_inversa1)"
   ]
  },
  {
   "cell_type": "code",
   "execution_count": 155,
   "metadata": {},
   "outputs": [
    {
     "name": "stdout",
     "output_type": "stream",
     "text": [
      "inverso muliplicativo de 55 = 90\n",
      "L1 << 90*L1\n",
      "[4950, 2880, 5220, 90, 0, 0]\n",
      "[56, 68, 17, 0, 1, 0]\n",
      "[68, 5, 90, 0, 0, 1]\n",
      "Aplicando modulo 101:\n",
      "[1, 52, 69, 90, 0, 0]\n",
      "[56, 68, 17, 0, 1, 0]\n",
      "[68, 5, 90, 0, 0, 1]\n",
      "Zerando coluna 1\n",
      "L2 << L2 + (-56)*L1\n",
      "L3 << L3 + (-68)*L1\n",
      "[1, 52, 69, 90, 0, 0]\n",
      "[0, -2844, -3847, -5040, 1, 0]\n",
      "[0, -3531, -4602, -6120, 0, 1]\n",
      "Aplicando modulo 101:\n",
      "[1, 52, 69, 90, 0, 0]\n",
      "[0, 85, 92, 10, 1, 0]\n",
      "[0, 4, 44, 41, 0, 1]\n",
      "inverso muliplicativo de 85 = 82\n",
      "L2 << 82*L2\n",
      "[1, 52, 69, 90, 0, 0]\n",
      "[0, 6970, 7544, 820, 82, 0]\n",
      "[0, 4, 44, 41, 0, 1]\n",
      "Aplicando modulo 101:\n",
      "[1, 52, 69, 90, 0, 0]\n",
      "[0, 1, 70, 12, 82, 0]\n",
      "[0, 4, 44, 41, 0, 1]\n",
      "Zerando coluna 1\n",
      "L1 << L1 + (-52)*L2\n",
      "L3 << L3 + (-4)*L2\n",
      "[1, 0, -3571, -534, -4264, 0]\n",
      "[0, 1, 70, 12, 82, 0]\n",
      "[0, 0, -236, -7, -328, 1]\n",
      "Aplicando modulo 101:\n",
      "[1, 0, 65, 72, 79, 0]\n",
      "[0, 1, 70, 12, 82, 0]\n",
      "[0, 0, 67, 94, 76, 1]\n",
      "inverso muliplicativo de 67 = 98\n",
      "L3 << 98*L3\n",
      "[1, 0, 65, 72, 79, 0]\n",
      "[0, 1, 70, 12, 82, 0]\n",
      "[0, 0, 6566, 9212, 7448, 98]\n",
      "Aplicando modulo 101:\n",
      "[1, 0, 65, 72, 79, 0]\n",
      "[0, 1, 70, 12, 82, 0]\n",
      "[0, 0, 1, 21, 75, 98]\n",
      "Zerando coluna 1\n",
      "L1 << L1 + (-65)*L3\n",
      "L2 << L2 + (-70)*L3\n",
      "[1, 0, 0, -1293, -4796, -6370]\n",
      "[0, 1, 0, -1458, -5168, -6860]\n",
      "[0, 0, 1, 21, 75, 98]\n",
      "Aplicando modulo 101:\n",
      "[1, 0, 0, 20, 52, 94]\n",
      "[0, 1, 0, 57, 84, 8]\n",
      "[0, 0, 1, 21, 75, 98]\n"
     ]
    }
   ],
   "source": [
    "matriz_inversa2 = matriz_inversa1[:]\n",
    "for linha in range(dimensao):\n",
    "    pivo = matriz_inversa2[linha][linha]\n",
    "    inverso_mul = multiplicative_inverse(pivo, mod)\n",
    "    print(f'inverso muliplicativo de {pivo} = {inverso_mul}')\n",
    "\n",
    "    print(f'L{linha+1} << {inverso_mul}*L{linha+1}')\n",
    "    matriz_inversa2[linha] = [a*inverso_mul for a in matriz_inversa2[linha]]\n",
    "    print_matrix(matriz_inversa2)\n",
    "\n",
    "    print(f'Aplicando modulo {mod}:') \n",
    "    matriz_inversa2 = aplica_modulo_na_matriz(matriz_inversa2, mod)\n",
    "    print_matrix(matriz_inversa2)\n",
    "\n",
    "    print(f'Zerando coluna {coluna+1}')\n",
    "    for outra_linha in range(dimensao):\n",
    "        if outra_linha != linha:\n",
    "            cte = matriz_inversa2[outra_linha][linha]\n",
    "            print(f'L{outra_linha+1} << L{outra_linha+1} + ({-cte})*L{linha+1}')\n",
    "            matriz_inversa2[outra_linha] = [a - b*cte for a, b in zip(matriz_inversa2[outra_linha], matriz_inversa2[linha])]\n",
    "\n",
    "    print_matrix(matriz_inversa2)\n",
    "\n",
    "    print(f'Aplicando modulo {mod}:') \n",
    "    matriz_inversa2 = aplica_modulo_na_matriz(matriz_inversa2, mod)\n",
    "    print_matrix(matriz_inversa2)"
   ]
  },
  {
   "cell_type": "code",
   "execution_count": 130,
   "metadata": {},
   "outputs": [
    {
     "data": {
      "text/plain": [
       "[0, 0, 0, 0, 0, 0]"
      ]
     },
     "execution_count": 130,
     "metadata": {},
     "output_type": "execute_result"
    }
   ],
   "source": [
    "[1]."
   ]
  },
  {
   "cell_type": "code",
   "execution_count": 107,
   "metadata": {},
   "outputs": [
    {
     "data": {
      "text/plain": [
       "(3, 6)"
      ]
     },
     "execution_count": 107,
     "metadata": {},
     "output_type": "execute_result"
    }
   ],
   "source": [
    "linhas = len(matriz_extendida)\n",
    "colunas = len(matriz_extendida[0])\n",
    "linhas, colunas"
   ]
  },
  {
   "cell_type": "code",
   "execution_count": null,
   "metadata": {},
   "outputs": [],
   "source": []
  },
  {
   "cell_type": "code",
   "execution_count": null,
   "metadata": {},
   "outputs": [],
   "source": []
  },
  {
   "cell_type": "code",
   "execution_count": 81,
   "metadata": {},
   "outputs": [
    {
     "name": "stdout",
     "output_type": "stream",
     "text": [
      "46 = 101 - 1 * 55\n"
     ]
    }
   ],
   "source": [
    "print_bezout_eq(eq)"
   ]
  },
  {
   "cell_type": "code",
   "execution_count": 82,
   "metadata": {},
   "outputs": [
    {
     "name": "stdout",
     "output_type": "stream",
     "text": [
      "46 = 101 - 1 * 55\n",
      "9 = 55 - 1 * 46\n",
      "1 = 46 - 5 * 9\n"
     ]
    }
   ],
   "source": [
    "equations = bezout_equations(101, 55)"
   ]
  },
  {
   "cell_type": "code",
   "execution_count": 83,
   "metadata": {},
   "outputs": [
    {
     "data": {
      "text/plain": [
       "[[46, 101, 1, 55], [9, 55, 1, 46], [1, 46, 5, 9]]"
      ]
     },
     "execution_count": 83,
     "metadata": {},
     "output_type": "execute_result"
    }
   ],
   "source": [
    "equations"
   ]
  },
  {
   "cell_type": "code",
   "execution_count": 84,
   "metadata": {},
   "outputs": [
    {
     "data": {
      "text/plain": [
       "[1, 46, 5, [55, 1, 46]]"
      ]
     },
     "execution_count": 84,
     "metadata": {},
     "output_type": "execute_result"
    }
   ],
   "source": [
    "eqs = equations[:]\n",
    "eq1 = eqs[-1]\n",
    "eq2 = eqs[-2]\n",
    "eq3 = eqs[:][-3]\n",
    "eq1[-1] = eq2[1:]\n",
    "eq1"
   ]
  },
  {
   "cell_type": "code",
   "execution_count": 85,
   "metadata": {},
   "outputs": [
    {
     "data": {
      "text/plain": [
       "[10, 2, 3]"
      ]
     },
     "execution_count": 85,
     "metadata": {},
     "output_type": "execute_result"
    }
   ],
   "source": [
    "lis = [1, 2, 3]\n",
    "lis[0] = 10\n",
    "lis"
   ]
  },
  {
   "cell_type": "code",
   "execution_count": 86,
   "metadata": {},
   "outputs": [
    {
     "name": "stdout",
     "output_type": "stream",
     "text": [
      "mcd(55,101) = mcd(101,55) = mcd(55,46) = mcd(46,9) = mcd(9,1) = mcd(1,0) = 1\n"
     ]
    },
    {
     "data": {
      "text/plain": [
       "True"
      ]
     },
     "execution_count": 86,
     "metadata": {},
     "output_type": "execute_result"
    }
   ],
   "source": [
    "mdc(55, 101) == 1"
   ]
  },
  {
   "cell_type": "code",
   "execution_count": 87,
   "metadata": {},
   "outputs": [
    {
     "data": {
      "text/plain": [
       "90"
      ]
     },
     "execution_count": 87,
     "metadata": {},
     "output_type": "execute_result"
    }
   ],
   "source": [
    "multiplicative_inverse(55, 101)"
   ]
  },
  {
   "cell_type": "code",
   "execution_count": 88,
   "metadata": {},
   "outputs": [
    {
     "name": "stdout",
     "output_type": "stream",
     "text": [
      "[55, 32, 58]\n",
      "[56, 68, 17]\n",
      "[68, 5, 90]\n"
     ]
    }
   ],
   "source": [
    "my_mat = [\n",
    "    [55, 32, 58],\n",
    "    [56, 68, 17],\n",
    "    [68, 5, 90],\n",
    "]\n",
    "\n",
    "print_matrix(my_mat)"
   ]
  },
  {
   "cell_type": "code",
   "execution_count": 89,
   "metadata": {},
   "outputs": [
    {
     "name": "stdout",
     "output_type": "stream",
     "text": [
      "[55, 32, 58, 1, 0, 0]\n",
      "[56, 68, 17, 0, 1, 0]\n",
      "[68, 5, 90, 0, 0, 1]\n"
     ]
    }
   ],
   "source": [
    "ext_mat = extend_matrix(my_mat)\n",
    "print_matrix(ext_mat)"
   ]
  },
  {
   "cell_type": "code",
   "execution_count": 90,
   "metadata": {},
   "outputs": [
    {
     "data": {
      "text/plain": [
       "4"
      ]
     },
     "execution_count": 90,
     "metadata": {},
     "output_type": "execute_result"
    }
   ],
   "source": [
    "multiplicative_inverse(9, 7)"
   ]
  },
  {
   "cell_type": "code",
   "execution_count": 91,
   "metadata": {},
   "outputs": [
    {
     "data": {
      "text/plain": [
       "-54"
      ]
     },
     "execution_count": 91,
     "metadata": {},
     "output_type": "execute_result"
    }
   ],
   "source": [
    "9*-6"
   ]
  },
  {
   "cell_type": "code",
   "execution_count": 92,
   "metadata": {},
   "outputs": [
    {
     "data": {
      "text/plain": [
       "2"
      ]
     },
     "execution_count": 92,
     "metadata": {},
     "output_type": "execute_result"
    }
   ],
   "source": [
    "-54%7"
   ]
  },
  {
   "cell_type": "code",
   "execution_count": 93,
   "metadata": {},
   "outputs": [
    {
     "data": {
      "text/plain": [
       "2"
      ]
     },
     "execution_count": 93,
     "metadata": {},
     "output_type": "execute_result"
    }
   ],
   "source": [
    "-54%7"
   ]
  }
 ],
 "metadata": {
  "kernelspec": {
   "display_name": "Python 3",
   "language": "python",
   "name": "python3"
  },
  "language_info": {
   "codemirror_mode": {
    "name": "ipython",
    "version": 3
   },
   "file_extension": ".py",
   "mimetype": "text/x-python",
   "name": "python",
   "nbconvert_exporter": "python",
   "pygments_lexer": "ipython3",
   "version": "3.7.4"
  }
 },
 "nbformat": 4,
 "nbformat_minor": 4
}
